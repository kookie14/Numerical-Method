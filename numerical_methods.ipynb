{
  "nbformat": 4,
  "nbformat_minor": 0,
  "metadata": {
    "colab": {
      "provenance": [],
      "include_colab_link": true
    },
    "kernelspec": {
      "name": "python3",
      "display_name": "Python 3"
    },
    "language_info": {
      "name": "python"
    }
  },
  "cells": [
    {
      "cell_type": "markdown",
      "metadata": {
        "id": "view-in-github",
        "colab_type": "text"
      },
      "source": [
        "<a href=\"https://colab.research.google.com/github/kookie14/Numerical-Method/blob/main/numerical_methods.ipynb\" target=\"_parent\"><img src=\"https://colab.research.google.com/assets/colab-badge.svg\" alt=\"Open In Colab\"/></a>"
      ]
    },
    {
      "cell_type": "markdown",
      "source": [
        "# <font color = Yellow >Chương 2: Giai phuong trinh 1 bien </font>"
      ],
      "metadata": {
        "id": "N-Kcs0JxqKzk"
      }
    },
    {
      "cell_type": "markdown",
      "source": [
        "* Fixed-point Iteration"
      ],
      "metadata": {
        "id": "HVQ_gXgvqxfS"
      }
    },
    {
      "cell_type": "code",
      "source": [
        "import numpy as np\n",
        "\n",
        "def g(p):\n",
        "    return((3*p**2+3)**(1/4))\n",
        "\n",
        "Tol = 10**(-2)\n",
        "N0 = 10\n",
        "p0 = 1\n",
        "i = 1\n",
        "\n",
        "while i<= N0:\n",
        "    p = g(p0)\n",
        "    FP = g(p)\n",
        "    if np.abs(p-p0)< Tol:\n",
        "        print(\"p = \"+str(p)+ \" after \"+str(i)+\" iterations\")\n",
        "        break\n",
        "    i = i+1\n",
        "    print(p)\n",
        "    p0 = p\n",
        "if i > N0: \n",
        "    print(\"Method failed after \" + str(N0)+ \" iterations\")"
      ],
      "metadata": {
        "colab": {
          "base_uri": "https://localhost:8080/"
        },
        "outputId": "bd1b4e20-4983-4fcb-e7bb-d8e2d29bd6cd",
        "id": "sOO9ZLFcqzcv"
      },
      "execution_count": null,
      "outputs": [
        {
          "output_type": "stream",
          "name": "stdout",
          "text": [
            "1.5650845800732873\n",
            "1.79357287863573\n",
            "1.8859437430173158\n",
            "1.9228478439840826\n",
            "1.9375075399574273\n",
            "p = 1.9433169298986768 after 6 iterations\n"
          ]
        }
      ]
    },
    {
      "cell_type": "markdown",
      "source": [
        "* Newton's Method"
      ],
      "metadata": {
        "id": "80SIEM3Zq-VT"
      }
    },
    {
      "cell_type": "code",
      "source": [
        "def newtonsmethod(p0, n, tol):\n",
        "    def f(p):\n",
        "        return((3*p**2+3)**(1/4))\n",
        "\n",
        "    def df(p):\n",
        "        return(3/2*p*((3*p**2+3)**(-3/4)))\n",
        "    i = 1\n",
        "    while i <= n:\n",
        "        p = p0 - (f(p0)/df(p0))\n",
        "        if abs(p- p0) < tol:\n",
        "            print(\"x = \"+str(p)+ \" after \"+str(i)+\" iterations\")\n",
        "            break\n",
        "        i =i+1\n",
        "        print(p)\n",
        "        p0 = p\n",
        "    if i > n: \n",
        "        print(\"Method failed after \" + str(n)+ \" iterations\")\n",
        "\n",
        "newtonsmethod(1, 10, 10**(-2))"
      ],
      "metadata": {
        "id": "g5KsKmJarEza",
        "outputId": "1a06c64d-3ed9-4522-da3e-f22f30b551a2",
        "colab": {
          "base_uri": "https://localhost:8080/"
        }
      },
      "execution_count": null,
      "outputs": [
        {
          "output_type": "stream",
          "name": "stdout",
          "text": [
            "-3.0\n",
            "3.666666666666667\n",
            "-4.212121212121213\n",
            "4.6869413560061055\n",
            "-5.113658877751304\n",
            "5.504768266901541\n",
            "-5.868089646300087\n",
            "6.20891606861983\n",
            "-6.531033484590083\n",
            "6.837263732026262\n",
            "Method failed after 10 iterations\n"
          ]
        }
      ]
    },
    {
      "cell_type": "markdown",
      "source": [
        "* Secant Method"
      ],
      "metadata": {
        "id": "6RrGRlU5rN8P"
      }
    },
    {
      "cell_type": "code",
      "source": [
        "from math import cos\n",
        "# apply with f  = cosx - x\n",
        "def secantMethod(p0, p1, tol, n):\n",
        "    def f(x):\n",
        "        return cos(x) - x\n",
        "    i = 2\n",
        "    q0 = f(p0)\n",
        "    q1 = f(p1)\n",
        "    while i <= n:\n",
        "        p = p1 - q1*(p1-p0)/(q1-q0)\n",
        "        if abs(p-p1) < tol:\n",
        "            print(\"x = \"+ str(p)+ \" after \" + str(i) + \" iterations\")\n",
        "            break\n",
        "        i = i+1\n",
        "        print(p)\n",
        "        p0 = p1\n",
        "        q0 = q1\n",
        "        p1 = p\n",
        "        q1 = f(p)\n",
        "    if i > n: \n",
        "        print(\"Method failed after \" + str(n)+ \" iterations\")\n",
        "\n",
        "## ví dụ\n",
        "        \n",
        "secantMethod(0,3.14/2, 10**(-2), 10)"
      ],
      "metadata": {
        "colab": {
          "base_uri": "https://localhost:8080/"
        },
        "id": "K88-gwBQOsJ3",
        "outputId": "908ddd57-0d84-4a6b-a04a-6e9ef86ead56"
      },
      "execution_count": null,
      "outputs": [
        {
          "output_type": "stream",
          "name": "stdout",
          "text": [
            "0.6110842890046084\n",
            "0.7232860813113391\n",
            "0.7395663230305634\n",
            "x = 0.7390834410483108 after 5 iterations\n"
          ]
        }
      ]
    },
    {
      "cell_type": "markdown",
      "source": [
        "* False Position Method"
      ],
      "metadata": {
        "id": "2pAsiYogrpy-"
      }
    },
    {
      "cell_type": "code",
      "source": [
        "from math import cos\n",
        "# apply with f  = cosx - x\n",
        "def flasePosition(p0, p1, tol, n):\n",
        "    def f(x):\n",
        "        return cos(x) - x\n",
        "    i = 2\n",
        "    q0 = f(p0)\n",
        "    q1 = f(p1)\n",
        "    while i <= n:\n",
        "        p = p1 - q1*(p1-p0)/(q1-q0)\n",
        "        print(p)\n",
        "        if abs(p-p1) < tol:\n",
        "            print(\"x = \"+ str(p)+ \" after \" + str(i) + \" iterations\")\n",
        "            break\n",
        "        i = i+1\n",
        "        q = f(p)\n",
        "        if(q*q1 < 0):\n",
        "            p0 = p1\n",
        "            q0 = q1\n",
        "        p1 = p\n",
        "        q1 = q\n",
        "    if i > n: \n",
        "        print(\"Method failed after \" + str(n)+ \" iterations\")\n",
        "# ví dụ\n",
        "flasePosition(0,3.14/2, 10**(-2), 10)\n",
        "        "
      ],
      "metadata": {
        "colab": {
          "base_uri": "https://localhost:8080/"
        },
        "id": "rFmMw90BOxoY",
        "outputId": "cbf0043b-02a4-4a57-88cb-e2f1fb523a43"
      },
      "execution_count": null,
      "outputs": [
        {
          "output_type": "stream",
          "name": "stdout",
          "text": [
            "0.6110842890046084\n",
            "0.7232860813113391\n",
            "0.737268633985274\n",
            "0.7388781713239154\n",
            "x = 0.7388781713239154 after 5 iterations\n"
          ]
        }
      ]
    },
    {
      "cell_type": "markdown",
      "source": [
        "# <font color = yellow>Chương 3: Giai phương trình nhiều biến </font>\n",
        "\n"
      ],
      "metadata": {
        "id": "IGdlre_DBzx8"
      }
    },
    {
      "cell_type": "markdown",
      "source": [
        " * Phương pháp khử Gauss"
      ],
      "metadata": {
        "id": "cGxecNjttAZD"
      }
    },
    {
      "cell_type": "code",
      "source": [
        "def gaussy(A, b, n):\n",
        "    l = [0 for x in range(n)]\n",
        "    s = [0.0 for x in range(n)]\n",
        "    for i in range(n):\n",
        "        l[i] = i\n",
        "        smax = 0.0\n",
        "        for j in range(n):\n",
        "            if abs(A[i][j]) > smax:\n",
        "                smax = abs(A[i][j])\n",
        "        s[i] = smax\n",
        "\n",
        "    for i in range(n - 1):\n",
        "        rmax = 0.0\n",
        "        for j in range(i, n):\n",
        "            ratio = abs(A[l[j]][i]) / s[l[j]]\n",
        "            if ratio > rmax:\n",
        "                rmax = ratio\n",
        "                rindex = j\n",
        "        temp = l[i]\n",
        "        l[i] = l[rindex]\n",
        "        l[rindex] = temp\n",
        "        for j in range(i + 1, n):\n",
        "            multiplier = A[l[j]][i] / A[l[i]][i]\n",
        "            for k in range(i, n):\n",
        "                A[l[j]][k] = A[l[j]][k] - multiplier * A[l[i]][k]\n",
        "            b[l[j]] = b[l[j]] - multiplier * b[l[i]]\n",
        "\n",
        "    x = [0.0 for y in range(n)]\n",
        "    x[n - 1] = b[l[n - 1]] / A[l[n - 1]][n - 1]\n",
        "    for j in range(n - 2, -1, -1):\n",
        "        summ = 0.0\n",
        "        for k in range(j + 1, n):\n",
        "            summ = summ + A[l[j]][k] * x[k]\n",
        "        x[j] = (b[l[j]] - summ) / A[l[j]][j]\n",
        "\n",
        "    print (\"Nghiệm xấp xỉ [\", end=\"\")\n",
        "    for i in range(n):\n",
        "        if i != (n - 1):\n",
        "            print(x[i], \",\", end=\"\")\n",
        "        else:\n",
        "            print(x[i], \"].\")\n",
        "\n",
        "matrix0 = [[1, -1, 2 ,-1], [2,-2,3,-3],[1,1,1,0],[1,-1,4,3]]\n",
        "vector0 = [-8,-20,-2,4]\n",
        "\n",
        "matrix1 = [[3.0, 2.0, -5.0], [2.0, -3.0, 1.0], [1.0, 4.0, -1.0]]\n",
        "vector1 = [0.0, 0.0, 4.0]\n",
        "\n",
        "gaussy(matrix0, vector0, 4)\n",
        "gaussy(matrix1, vector1, 3)"
      ],
      "metadata": {
        "colab": {
          "base_uri": "https://localhost:8080/"
        },
        "id": "GDvJWh4vG7T0",
        "outputId": "54ffc382-1bec-4c2e-a20c-b9f581bce759"
      },
      "execution_count": null,
      "outputs": [
        {
          "output_type": "stream",
          "name": "stdout",
          "text": [
            "Nghiệm xấp xỉ [-6.999999999999998 ,2.999999999999999 ,1.9999999999999993 ,2.0000000000000004 ].\n",
            "Nghiệm xấp xỉ [0.9999999999999999 ,1.0 ,1.0000000000000002 ].\n"
          ]
        }
      ]
    },
    {
      "cell_type": "markdown",
      "source": [
        "* Phương pháp Gauss- Jordan"
      ],
      "metadata": {
        "id": "qu1ir5JytxnM"
      }
    },
    {
      "cell_type": "code",
      "source": [
        "import numpy as np\n",
        "\n",
        "def swap(matrix, row,k):\n",
        "\ttemp = matrix[k]\n",
        "\tif (k != (row-1)):\n",
        "\t\tmatrix[k] = matrix[k+1]\n",
        "\t\tmatrix[k+1] = temp\n",
        "\t\tnormal(matrix,k,matrix[k][k],row+1)\n",
        "\t\teliminate(matrix,k,row,row+1)\n",
        "\n",
        "def normal(matrix,k, a,col):\n",
        "\tif (a!=0):\n",
        "\t\tfor j in range(col):\n",
        "\t\t\tmatrix[k][j] = matrix[k][j]/a\n",
        "\telse:\n",
        "\t\tswap(matrix,col-1,k)\n",
        "\n",
        "def eliminate(matrix, k, row,col):\n",
        "\tfor i in range(row):\n",
        "\t\tif (i!=k):\n",
        "\t\t\tb = matrix[i][k]\n",
        "\t\t\tfor j in range(col):\n",
        "\t\t\t\tmatrix[i][j] = matrix[i][j]-b*matrix[k][j]\n",
        "\n",
        "## ví dụ:\n",
        "matrix  = [[1, -1, 2 ,-1, -8], [2,-2,3,-3, -20],[1,1,1,0, -2],[1,-1,4,3, 4]]\n",
        "row = 4\n",
        "col = 5\n",
        "for i in range(row):\n",
        "  for j in range(col):\n",
        "  \tif(i==j):\n",
        "  \t\t      a = matrix[i][j]\n",
        "\t  \t      normal(matrix,i,a,col)\n",
        "\t  \t      eliminate(matrix,i,row,col)\n",
        "for i in range(len(matrix)):\n",
        "\tprint(matrix[i])\n"
      ],
      "metadata": {
        "colab": {
          "base_uri": "https://localhost:8080/"
        },
        "id": "qfwk0NnMCdp5",
        "outputId": "12a5f8f9-daeb-429b-b3a4-ed913c54d878"
      },
      "execution_count": null,
      "outputs": [
        {
          "output_type": "stream",
          "name": "stdout",
          "text": [
            "[1.0, 0.0, 0.0, 0.0, -7.0]\n",
            "[0.0, 1.0, 0.0, 0.0, 3.0]\n",
            "[-0.0, -0.0, 1.0, 0.0, 2.0]\n",
            "[0.0, 0.0, 0.0, 1.0, 2.0]\n"
          ]
        }
      ]
    },
    {
      "cell_type": "markdown",
      "source": [
        "\n",
        "* Phương pháp Gauss-Seidel "
      ],
      "metadata": {
        "id": "W4Xjli5UCDdU"
      }
    },
    {
      "cell_type": "code",
      "source": [
        "import numpy as np\n",
        "\n",
        "def gauss_seidel(A, b, x0, tol, K):\n",
        "    \n",
        "    x_iter = []\n",
        "    n = A.shape[0]\n",
        "    err = tol + 1\n",
        "    x = x0.copy()\n",
        "    k = 0\n",
        "    \n",
        "    while err > tol and k < K:\n",
        "        \n",
        "        xold = x.copy()\n",
        "        x = gauss_iter(A, b, x)\n",
        "        print(x)\n",
        "        x_iter.append(x.copy())\n",
        "        err = np.linalg.norm(x-xold, np.inf)/np.linalg.norm(x, np.inf)\n",
        "        k = k+1\n",
        "    \n",
        "    return x, x_iter\n",
        "\n",
        "def gauss_iter(A, b, x):\n",
        "    \n",
        "    n = A.shape[0]\n",
        "    \n",
        "    for i in range(n):\n",
        "        s = 0\n",
        "        for j in range(n):\n",
        "            if j!=i:\n",
        "                s += A[i,j]*x[j]\n",
        "        x[i] = (-s +b[i])/A[i,i]\n",
        "        \n",
        "    return x\n"
      ],
      "metadata": {
        "id": "SpJuAdhUHpXS"
      },
      "execution_count": null,
      "outputs": []
    },
    {
      "cell_type": "code",
      "source": [
        "A = np. array([[2., 1., 0., 0.],\n",
        "               [2., 3.,  0., 1.],\n",
        "               [0., -1., -6., 2.],\n",
        "               [0., 2., 1., -4.]])\n",
        "\n",
        "b = np. array([1., 0., -2., -5 ]) \n",
        "\n",
        "tol = 0.0001\n",
        "K = 1000\n",
        "x0 = np.zeros(4)\n",
        "x, x_iter = gauss_seidel(A,b, x0, tol, K)\n",
        "print(x)\n",
        "print(x_iter)"
      ],
      "metadata": {
        "id": "Fu3SMgXpciuO",
        "outputId": "b747c565-32e4-44dc-942a-c8a1efcaca29",
        "colab": {
          "base_uri": "https://localhost:8080/"
        }
      },
      "execution_count": null,
      "outputs": [
        {
          "output_type": "stream",
          "name": "stdout",
          "text": [
            "[ 0.5        -0.33333333  0.38888889  1.18055556]\n",
            "[ 0.66666667 -0.83796296  0.86651235  1.0476466 ]\n",
            "[ 0.91898148 -0.96186986  0.84286051  0.9797802 ]\n",
            "[ 0.98093493 -0.98055002  0.82335174  0.96556292]\n",
            "[ 0.99027501 -0.98203765  0.81886058  0.96369632]\n",
            "[ 0.99101882 -0.98191132  0.81821733  0.96359867]\n",
            "[ 0.99095566 -0.98183666  0.81817233  0.96362475]\n",
            "[ 0.99095566 -0.98183666  0.81817233  0.96362475]\n",
            "[array([ 0.5       , -0.33333333,  0.38888889,  1.18055556]), array([ 0.66666667, -0.83796296,  0.86651235,  1.0476466 ]), array([ 0.91898148, -0.96186986,  0.84286051,  0.9797802 ]), array([ 0.98093493, -0.98055002,  0.82335174,  0.96556292]), array([ 0.99027501, -0.98203765,  0.81886058,  0.96369632]), array([ 0.99101882, -0.98191132,  0.81821733,  0.96359867]), array([ 0.99095566, -0.98183666,  0.81817233,  0.96362475])]\n"
          ]
        }
      ]
    },
    {
      "cell_type": "code",
      "source": [
        "def error(x_iter):\n",
        "    errors = []\n",
        "    for i in range(len(x_iter)):\n",
        "        err = np.linalg.norm(A@x_iter[i] - b)\n",
        "        errors.append(err)\n",
        "    return errors     "
      ],
      "metadata": {
        "id": "0S_9gtcPcSj6"
      },
      "execution_count": null,
      "outputs": []
    },
    {
      "cell_type": "code",
      "source": [
        "err = error(x_iter)"
      ],
      "metadata": {
        "id": "UvB_rrOzcM3D"
      },
      "execution_count": null,
      "outputs": []
    },
    {
      "cell_type": "code",
      "source": [
        "import matplotlib.pyplot as plt\n",
        "\n",
        "plt.plot([i for i in range(len(x_iter))],err)"
      ],
      "metadata": {
        "id": "AUaHEVbrcKik",
        "outputId": "cd2de633-42d2-4db1-ec09-86fc7c124c4f",
        "colab": {
          "base_uri": "https://localhost:8080/",
          "height": 282
        }
      },
      "execution_count": null,
      "outputs": [
        {
          "output_type": "execute_result",
          "data": {
            "text/plain": [
              "[<matplotlib.lines.Line2D at 0x7fca69264750>]"
            ]
          },
          "metadata": {},
          "execution_count": 60
        },
        {
          "output_type": "display_data",
          "data": {
            "text/plain": [
              "<Figure size 432x288 with 1 Axes>"
            ],
            "image/png": "[encoded data removed]"
          },
          "metadata": {
            "needs_background": "light"
          }
        }
      ]
    },
    {
      "cell_type": "markdown",
      "source": [
        "* phương pháp phân tích nhân tử LU (triển khai phương pháp Cholesky)"
      ],
      "metadata": {
        "id": "McJcYbWnCKx1"
      }
    },
    {
      "cell_type": "code",
      "source": [
        "import math\n",
        "import numpy as np\n",
        "\n",
        "MAX = 100;\n",
        " \n",
        "def Cholesky_Decomposition(matrix, n, b):\n",
        " \n",
        "    lower = [[0 for x in range(n + 1)]\n",
        "                for y in range(n + 1)];\n",
        "    L = [[0 for x in range(n)]\n",
        "              for y in range(n )];\n",
        "\n",
        "    # phân tích ma trận\n",
        "    # thành ma trận tam giác dưới\n",
        "    for i in range(n):\n",
        "        for j in range(i+1):\n",
        "            sum1 = 0;\n",
        "            sum3 = 0;\n",
        "            sum4 = 0;\n",
        " \n",
        "            # tính tổng \n",
        "            if (j == i):\n",
        "                for k in range(j):\n",
        "                    sum1 += pow(lower[j][k], 2);\n",
        "                lower[j][j] = float(math.sqrt(matrix[j][j] - sum1));\n",
        "            else:\n",
        "                 \n",
        "                # Đánh giá L[i,j]\n",
        "                # sử dụng L[j, j]\n",
        "                for k in range(j):\n",
        "                    sum1 += (lower[i][k] *lower[j][k]);\n",
        "                if(lower[j][j] > 0):\n",
        "                    lower[i][j] = float((matrix[i][j] - sum1) /\n",
        "                                               lower[j][j]);\n",
        "          \n",
        "    print(\"Ma trận tam giác dưới\\t\\tMa trận chuyển vị\");\n",
        "    for i in range(n):\n",
        "         \n",
        "        # Ma trận tam giác dưới\n",
        "        for j in range(n):\n",
        "            print(lower[i][j], end = \"\\t\");\n",
        "            L[i][j] = lower[i][j]\n",
        "        print(\"\", end = \"\\t\");\n",
        "         \n",
        "        # Ma trận chuyển vị của ma trận tam giác dưới\n",
        "        for j in range(n):\n",
        "            print(lower[j][i], end = \"\\t\");\n",
        "        print(\"\");\n",
        "    return L\n",
        "\n",
        "def solver(L,U,b):\n",
        "  L=np.array(L, float)\n",
        "  U=np.array(U, float)\n",
        "  b=np.array(b, float)\n",
        "\n",
        "  n,_=np.shape(L)\n",
        "  y=np.zeros(n)\n",
        "  x=np.zeros(n)\n",
        "\n",
        "# Giai PT Ly = b\n",
        "  for i in range(n):\n",
        "    sumj=0\n",
        "    for j in range(i):\n",
        "      sumj += L[i,j]*y[j]\n",
        "    y[i]=(b[i]-sumj)/L[i,i]\n",
        "\n",
        "# Gia Ux = y \n",
        "  for i in range(n-1, -1, -1):\n",
        "    sumj=0\n",
        "    for j in range(i+1,n):\n",
        "      sumj += U[i,j] * x[j]\n",
        "    x[i]=(y[i]-sumj)/U[i,i]\n",
        "  return x\n",
        "\n",
        "\n",
        "# ví dụ\n",
        "n = 3;\n",
        "matrix = [[4, 2, 14],\n",
        "          [2, 17, -5],\n",
        "          [14, -5, 83]];\n",
        "b = [14, -101, 155]\n",
        "L = Cholesky_Decomposition(matrix, n, b);\n",
        "print(L)\n",
        "U = np.transpose(L)\n",
        "print(U)\n",
        "print(\"Nghiệm x là: \")\n",
        "print((solver(L,U,b)))\n",
        "\n",
        "\n",
        " "
      ],
      "metadata": {
        "id": "B4kO-luPIHzV",
        "colab": {
          "base_uri": "https://localhost:8080/"
        },
        "outputId": "c28a5b3b-04a1-41b1-e0f9-0a5842f7d3ea"
      },
      "execution_count": null,
      "outputs": [
        {
          "output_type": "stream",
          "name": "stdout",
          "text": [
            "Ma trận tam giác dưới\t\tMa trận chuyển vị\n",
            "2.0\t0\t0\t\t2.0\t1.0\t7.0\t\n",
            "1.0\t4.0\t0\t\t0\t4.0\t-3.0\t\n",
            "7.0\t-3.0\t5.0\t\t0\t0\t5.0\t\n",
            "[[2.0, 0, 0], [1.0, 4.0, 0], [7.0, -3.0, 5.0]]\n",
            "[[ 2.  1.  7.]\n",
            " [ 0.  4. -3.]\n",
            " [ 0.  0.  5.]]\n",
            "Nghiệm x là: \n",
            "[ 3. -6.  1.]\n"
          ]
        }
      ]
    },
    {
      "cell_type": "markdown",
      "source": [
        "* Phương pháp Jacobi "
      ],
      "metadata": {
        "id": "DwCFZiJFHbrl"
      }
    },
    {
      "cell_type": "code",
      "source": [
        "import numpy as np"
      ],
      "metadata": {
        "id": "x33Ag9V0d2Hq"
      },
      "execution_count": null,
      "outputs": []
    },
    {
      "cell_type": "code",
      "source": [
        "def jacobi(A,b, x0, tol, K):\n",
        "    x_iter = []\n",
        "    n = A.shape[0]\n",
        "    err = tol + 1\n",
        "    x = x0.copy()\n",
        "    k = 0\n",
        "    while err > tol and k < K:\n",
        "        xold = x.copy()\n",
        "        x = jacobiIter(A,b,xold)\n",
        "        x_iter.append(x)\n",
        "        k = k + 1\n",
        "        err = np.linalg.norm(x-xold,np.inf)/np.linalg.norm(x,np.inf)\n",
        "        #err = np.linalg.norm(x-xold,2)/np.linalg.norm(x,2)\n",
        "    print(k)\n",
        "    return x, x_iter\n",
        "\n",
        "\n",
        "\n",
        "def jacobiIter(A,b,xold):\n",
        "\n",
        "    n = A.shape[0]\n",
        "    x = np.zeros_like(xold)\n",
        "    for i in range(n):\n",
        "        s = 0\n",
        "        for j in range(n):\n",
        "            if j!=i:\n",
        "                s += A[i,j]*xold[j]\n",
        "        x[i] = (b[i]- s)/A[i,i]\n",
        "    return x"
      ],
      "metadata": {
        "id": "S9xNJMdVedsw"
      },
      "execution_count": null,
      "outputs": []
    },
    {
      "cell_type": "code",
      "source": [
        "A = np. array([[2., 1., 0., 0.],\n",
        "               [2., 3.,  0., 1.],\n",
        "               [0., -1., -6., 2.],\n",
        "               [0., 2., 1., -4.]])\n",
        "\n",
        "b = np. array([1., 0., -2., -5 ]) \n",
        "\n",
        "tol = 0.0001\n",
        "K = 1000\n",
        "x0 = np.zeros(4)\n",
        "x, x_iter = jacobi(A,b, x0, tol, K)\n",
        "print(x)\n",
        "len(x_iter)"
      ],
      "metadata": {
        "id": "xRvczv3XeqG9",
        "outputId": "06d0f997-7687-453b-bb6e-464517bb22f8",
        "colab": {
          "base_uri": "https://localhost:8080/"
        }
      },
      "execution_count": null,
      "outputs": [
        {
          "output_type": "stream",
          "name": "stdout",
          "text": [
            "13\n",
            "[ 0.9909161  -0.98183318  0.81816961  0.96364228]\n"
          ]
        },
        {
          "output_type": "execute_result",
          "data": {
            "text/plain": [
              "13"
            ]
          },
          "metadata": {},
          "execution_count": 64
        }
      ]
    },
    {
      "cell_type": "code",
      "source": [
        "# Tinh lai b\n",
        "A@x"
      ],
      "metadata": {
        "id": "wPWlbXuYeuwF",
        "outputId": "b051eda4-8068-407c-ec49-6c904e3a2b7c",
        "colab": {
          "base_uri": "https://localhost:8080/"
        }
      },
      "execution_count": null,
      "outputs": [
        {
          "output_type": "execute_result",
          "data": {
            "text/plain": [
              "array([ 9.99999014e-01, -2.50615319e-05, -1.99989992e+00, -5.00006589e+00])"
            ]
          },
          "metadata": {},
          "execution_count": 65
        }
      ]
    },
    {
      "cell_type": "code",
      "source": [
        "# Error plot\n",
        "def error(x_iter):\n",
        "    errors = []\n",
        "    for i in range(len(x_iter)):\n",
        "        err = np.linalg.norm(A@x_iter[i] - b)\n",
        "        errors.append(err)\n",
        "    return errors"
      ],
      "metadata": {
        "id": "YHoplhLre6Qa"
      },
      "execution_count": null,
      "outputs": []
    },
    {
      "cell_type": "code",
      "source": [
        "err = error(x_iter)\n",
        "err[-1]"
      ],
      "metadata": {
        "id": "q6tK4TMFfAgi",
        "outputId": "0f67f5fb-6d19-4901-9b71-79d566ae441b",
        "colab": {
          "base_uri": "https://localhost:8080/"
        }
      },
      "execution_count": null,
      "outputs": [
        {
          "output_type": "execute_result",
          "data": {
            "text/plain": [
              "0.00012241745481077155"
            ]
          },
          "metadata": {},
          "execution_count": 67
        }
      ]
    },
    {
      "cell_type": "code",
      "source": [
        "import matplotlib.pyplot as plt\n",
        "\n",
        "plt.plot([i for i in range(len(x_iter))],err)"
      ],
      "metadata": {
        "id": "Bd1dBeUsfEVj",
        "outputId": "f3dcdcc5-67de-4049-d444-4a57e45e9271",
        "colab": {
          "base_uri": "https://localhost:8080/",
          "height": 283
        }
      },
      "execution_count": null,
      "outputs": [
        {
          "output_type": "execute_result",
          "data": {
            "text/plain": [
              "[<matplotlib.lines.Line2D at 0x7fca68f68810>]"
            ]
          },
          "metadata": {},
          "execution_count": 68
        },
        {
          "output_type": "display_data",
          "data": {
            "text/plain": [
              "<Figure size 432x288 with 1 Axes>"
            ],
            "image/png": "[encoded data removed]"
          },
          "metadata": {
            "needs_background": "light"
          }
        }
      ]
    },
    {
      "cell_type": "markdown",
      "source": [
        "* Phương pháp lặp Gauss-Seidel"
      ],
      "metadata": {
        "id": "BTi45ZJkH9jf"
      }
    },
    {
      "cell_type": "markdown",
      "source": [
        "# Chương 4: Phương pháp nội suy"
      ],
      "metadata": {
        "id": "pavcF5_HH_QT"
      }
    },
    {
      "cell_type": "markdown",
      "source": [
        "* Phương pháp nội suy Lagrange"
      ],
      "metadata": {
        "id": "FI2AqCMGIEBt"
      }
    },
    {
      "cell_type": "code",
      "source": [
        "import numpy as np\n",
        "def input_data():\n",
        "    data_x = np.array([])\n",
        "    data_y = np.array([])\n",
        "    n = int(input(\"nhập số điểm:  \"))\n",
        "\n",
        "    for i in range(n):\n",
        "        data_x = np.append(data_x, float(input(\"X[{}]: \".format(i))))\n",
        "\n",
        "    for i in range(n):\n",
        "        data_y = np.append(data_y, float(input(\"Y[{}]: \".format(i))))\n",
        "\n",
        "    x = float(input(\"Tìm Y với X = \"))\n",
        "\n",
        "    return [data_x, data_y, x]"
      ],
      "metadata": {
        "id": "Z6UTSBhGlHzV"
      },
      "execution_count": null,
      "outputs": []
    },
    {
      "cell_type": "code",
      "source": [
        "def lagrange(data_x, data_y, x):\n",
        "    y_ans = 0\n",
        "\n",
        "    for i in range(data_x.size):\n",
        "        p = data_y[i]\n",
        "        for j in range(data_x.size):\n",
        "            if i != j:\n",
        "                p *= ((x - data_x[j]) / (data_x[i] - data_x[j]))\n",
        "        y_ans += p\n",
        "\n",
        "    return y_ans\n"
      ],
      "metadata": {
        "id": "2YcNAgv9YqKA"
      },
      "execution_count": null,
      "outputs": []
    },
    {
      "cell_type": "code",
      "source": [
        "def test_lagrange():\n",
        "  \n",
        "\n",
        "    data_x, data_y, x = input_data()\n",
        "\n",
        "    y_ans = lagrange(data_x, data_y, x)\n",
        "\n",
        "    print(\"Phương pháp nội suy Lagrange:\")\n",
        "    print(\"F({}) = {}\".format(x, y_ans))\n",
        "\n",
        "\n",
        "    "
      ],
      "metadata": {
        "id": "zdMeAwklj4_a"
      },
      "execution_count": null,
      "outputs": []
    },
    {
      "cell_type": "code",
      "source": [
        "def f(x):\n",
        "  return pow(2,x)\n",
        "print(f(-6))\n",
        "print(f(0))\n",
        "print(f(6))\n",
        "print(f(12))\n"
      ],
      "metadata": {
        "colab": {
          "base_uri": "https://localhost:8080/"
        },
        "id": "qjmsmcw5xo0L",
        "outputId": "81404d6e-39a3-427f-aaf5-6338d77c7726"
      },
      "execution_count": null,
      "outputs": [
        {
          "output_type": "stream",
          "name": "stdout",
          "text": [
            "0.015625\n",
            "1\n",
            "64\n",
            "4096\n"
          ]
        }
      ]
    },
    {
      "cell_type": "code",
      "source": [
        "## ví dụ bài 1(phần bài tập)\n",
        "test_lagrange()"
      ],
      "metadata": {
        "id": "FMV_tZY3j_xd",
        "outputId": "fe137d51-66df-48a3-efed-edb116cc22a2",
        "colab": {
          "base_uri": "https://localhost:8080/"
        }
      },
      "execution_count": null,
      "outputs": [
        {
          "output_type": "stream",
          "name": "stdout",
          "text": [
            "nhập số điểm:  4\n",
            "X[0]: -6\n",
            "X[1]: 0\n",
            "X[2]: 6\n",
            "X[3]: 12\n",
            "Y[0]: 0.015625\n",
            "Y[1]: 1\n",
            "Y[2]: 64\n",
            "Y[3]: 4096\n",
            "Tìm Y với X = -1\n",
            "Phương pháp nội suy Lagrange:\n",
            "F(-1.0) = 102.0419921875\n"
          ]
        }
      ]
    },
    {
      "cell_type": "markdown",
      "source": [
        "* Phương pháp nội suy Newton"
      ],
      "metadata": {
        "id": "CVH-5mO7I7-X"
      }
    },
    {
      "cell_type": "code",
      "source": [
        "def newton_divided_difference(data_x, data_y, x):\n",
        "    c = np.copy(data_y)\n",
        "\n",
        "    for j in range(1, data_x.size):\n",
        "        for i in range(data_x.size - 1, j - 1, -1):\n",
        "            c[i] = float(c[i] - c[i - 1]) / float(data_x[i] - data_x[i - j])\n",
        "\n",
        "    y_ans = 0\n",
        "    for i in range(data_x.size):\n",
        "        f = c[i]\n",
        "        for j in range(i):\n",
        "            f *= (x - data_x[j])\n",
        "\n",
        "        y_ans += f\n",
        "        \n",
        "    return y_ans"
      ],
      "metadata": {
        "id": "sQUvMFsJj-Xs"
      },
      "execution_count": null,
      "outputs": []
    },
    {
      "cell_type": "code",
      "source": [
        "\n",
        "def test_newton():\n",
        "   \n",
        "    data_x, data_y, x = input_data()\n",
        "\n",
        "    y_ans = newton_divided_difference(data_x, data_y, x)\n",
        "\n",
        "    print(\"Phương pháp nội suy Newton:\")\n",
        "    print(\"F({}) = {}\".format(x, y_ans))"
      ],
      "metadata": {
        "id": "ciIl8rfClbIO"
      },
      "execution_count": null,
      "outputs": []
    },
    {
      "cell_type": "code",
      "source": [
        "## ví dụ bài 1 phần bài tập\n",
        "\n",
        "test_newton()"
      ],
      "metadata": {
        "id": "j5pTIbmOjaqf",
        "outputId": "3c4b94c6-712f-4ed7-c963-3142d7e313a3",
        "colab": {
          "base_uri": "https://localhost:8080/"
        }
      },
      "execution_count": null,
      "outputs": [
        {
          "output_type": "stream",
          "name": "stdout",
          "text": [
            "nhập số điểm:  4\n",
            "X[0]: 8.1\n",
            "X[1]: 8.3\n",
            "X[2]: 8.6\n",
            "X[3]: .7\n",
            "Y[0]: 16.94410\n",
            "Y[1]: 17.56492\n",
            "Y[2]: 18.50515\n",
            "Y[3]: 18.82091\n",
            "Tìm Y với X = 8.4\n",
            "Phương pháp nội suy Newton:\n",
            "F(8.4) = 17.877419978977976\n"
          ]
        }
      ]
    },
    {
      "cell_type": "markdown",
      "source": [
        "* Phương pháp nội suy Spline\n",
        "\n"
      ],
      "metadata": {
        "id": "KV5-5pJmJBF8"
      }
    },
    {
      "cell_type": "code",
      "source": [
        "# các biến toàn cục\n",
        "global x, fx, h, k0, kn\n"
      ],
      "metadata": {
        "id": "-DHA8l_0HzoV"
      },
      "execution_count": null,
      "outputs": []
    },
    {
      "cell_type": "code",
      "source": [
        "# tính đạo hàm bằng ma trận A*k = b\n",
        "def calculate_K(k0, kn):\n",
        "    delta_f = np.array([3/h[i]*(fx[i+1] - fx[i-1]) for i in range(1, fx.shape[0] - 1)])\n",
        "    b = np.concatenate((np.array([k0]), delta_f, np.array([kn])), axis = 0)\n",
        "    A = np.identity(fx.shape[0])\n",
        "    for i in range(1, fx.shape[0]-1):\n",
        "        A[i,i-1 : i+2] = np.array([1,4,1])\n",
        "    k = np.linalg.inv(A).dot(b)\n",
        "    return k"
      ],
      "metadata": {
        "id": "ENp8XFmLnkLh"
      },
      "execution_count": null,
      "outputs": []
    },
    {
      "cell_type": "code",
      "source": [
        "# chuẩn hoá hàm pn(x)\n",
        "def find_pj(k,j):\n",
        "    '''pj(x) = aj0 + aj1*(x-xj) + aj2*(x-xj)^2 + aj3*(x-xj)^3'''\n",
        "    aj0 = fx[j]\n",
        "    aj1 = k[j]\n",
        "    aj2 = (3/h[j]**2)*(fx[j+1] - fx[j]) - 1/h[j]*(k[j+1] + 2*k[j])\n",
        "    aj3 = (2/h[j]**3)*(fx[j] - fx[j+1]) + (1/h[j]**2)*(k[j+1] + k[j])\n",
        "    pj = \"\"\n",
        "    aj = [aj0, aj1, aj2, aj3]\n",
        "    for i in range(len(aj)):\n",
        "        if aj[i] == 0:\n",
        "            continue\n",
        "        if x[j] != 0:\n",
        "            if i == 0:\n",
        "                pj += str(aj[i])\n",
        "            elif i == 1:\n",
        "                pj += \"+{}*(x-{})\".format(aj[i], x[j])\n",
        "            else:\n",
        "                pj += \"+{}*(x-{})^{}\".format(aj[i], x[j],i)    \n",
        "        else :\n",
        "            if i == 0:\n",
        "                pj += str(aj[i])\n",
        "            elif i == 1:\n",
        "                pj += \"+{}*x\".format(aj[i])\n",
        "            else:\n",
        "                pj += \"+{}*x^{}\".format(aj[i],i) \n",
        "    return pj.replace(\"--\", \"+\").replace(\"+-\", \"-\").strip().strip(\"+\").replace(\"1.0*\", \"\")\\\n",
        "        .replace(\"+\", \" + \").replace(\"-\", \" - \").strip()\n"
      ],
      "metadata": {
        "id": "hN3qQJEjmjdq"
      },
      "execution_count": null,
      "outputs": []
    },
    {
      "cell_type": "code",
      "source": [
        "# tìm pn(x)\n",
        "def find_pn(x,fx):\n",
        "    pn = []\n",
        "    k = calculate_K(k0,kn)\n",
        "    for i in range(x.shape[0]-1):\n",
        "        pn.append(find_pj(k,i))\n",
        "    \n",
        "    return pn"
      ],
      "metadata": {
        "id": "dH7K17YOoQXN"
      },
      "execution_count": null,
      "outputs": []
    },
    {
      "cell_type": "code",
      "source": [
        "# plot and compare\n",
        "def draw(x1, x2, y:str, color = \"blue\"):\n",
        "    x = np.linspace(x1,x2,1000)\n",
        "    y = eval(y.replace(\"^\", \"**\")) \n",
        "    plt.plot(x,y, color = color)"
      ],
      "metadata": {
        "id": "dedvnDiToYdn"
      },
      "execution_count": null,
      "outputs": []
    },
    {
      "cell_type": "markdown",
      "source": [
        "ví dụ:<font color = yellow> bài 4d: </font>"
      ],
      "metadata": {
        "id": "K4Yx-EbioypN"
      }
    },
    {
      "cell_type": "code",
      "source": [
        "x = np.array([-1,-0.5,0,0.5])\n",
        "fx = np.array([0.86199480,0.95802009,1.0986123,1.2943767])\n",
        "h = np.diff(x) # tính hiệu khoảng cách của 2 giá trị x liên tiếp\n",
        "k0 = 0\n",
        "kn = -6\n",
        "pn_x = find_pn(x,fx)\n",
        "#  vẽ\n",
        "plt.scatter(x,fx, c = \"red\", s = 50)\n",
        "for i in range(len(pn_x)):\n",
        "    print(\"p{}(x) = {}\".format(i,pn_x[i]))\n",
        "    draw(x1 = x[i], x2 = x[i+1], y = pn_x[i])"
      ],
      "metadata": {
        "id": "nqcQuQ7ZoiG-",
        "outputId": "64873ed4-87b6-4cac-8724-d1ef1d3ade5e",
        "colab": {
          "base_uri": "https://localhost:8080/",
          "height": 339
        }
      },
      "execution_count": null,
      "outputs": [
        {
          "output_type": "stream",
          "name": "stdout",
          "text": [
            "p0(x) = 0.8619948 + 1.4642127679999999*(x + 1.0)^2 - 2.1602232159999994*(x + 1.0)^3\n",
            "p1(x) = 0.95802009 - 0.15595464399999975*(x + 0.5) - 1.7761220560000002*(x + 0.5)^2 + 5.300800368*(x + 0.5)^3\n",
            "p2(x) = 1.0986123 + 2.043523576*x + 6.175078495999998*x^2 - 18.958136095999997*x^3\n"
          ]
        },
        {
          "output_type": "display_data",
          "data": {
            "text/plain": [
              "<Figure size 432x288 with 1 Axes>"
            ],
            "image/png": "[encoded data removed]"
          },
          "metadata": {
            "needs_background": "light"
          }
        }
      ]
    },
    {
      "cell_type": "markdown",
      "source": [
        "<font color = yellow> VD1: </font> ho n= [0 to 2] với x0=-1, x1=0, x2=1 và f(x0)=f0= 1, f(x1)=f1= 0, f(x2)=f2=1 \n",
        "g’(-1)=f’(-1)= k0 = -4, g’(1) = f’(1) = k2 = 4. Tìm xt = 2\n"
      ],
      "metadata": {
        "id": "b4DQKsBUH4k8"
      }
    },
    {
      "cell_type": "code",
      "source": [
        "x = np.array([-1,0,1])\n",
        "fx = np.array([1,0,1])\n",
        "h = np.diff(x)\n",
        "k0 = -4\n",
        "kn = 4\n",
        "pn_x = find_pn(x,fx)\n",
        "plt.scatter(x,fx, c = \"black\", s = 50)\n",
        "for i in range(len(pn_x)):\n",
        "    print(\"p{}(x) = {}\".format(i,pn_x[i]))\n",
        "    draw(x1 = x[i], x2 = x[i+1], y = pn_x[i])\n",
        "    \n",
        "# vẽ đối chiếu với hàm gốc\n",
        "y = \"x^4\"\n",
        "draw(x1 = x[0], x2 = x[-1], y = y, color = \"red\")"
      ],
      "metadata": {
        "id": "H2wWUjIvprYl"
      },
      "execution_count": null,
      "outputs": []
    },
    {
      "cell_type": "markdown",
      "source": [
        "# Chương 5: Tính gần đúng đạo hàm và tích phân"
      ],
      "metadata": {
        "id": "avP5XM_MtW73"
      }
    },
    {
      "cell_type": "markdown",
      "source": [
        "* Tính gần đúng đạo hàm\n",
        "\n",
        "  Công thức 3 điểm: Với x = [x0,x1,..,xn] và fx = [fx0, fx1,...,fxn] và x1 - x0 = x2 - x1 = ... = xn - x(n-1) = h\n",
        "\n",
        "      f'0(x) = 1/(2h)*(-3f0(x) + 4f1(x) - f2(x))\n",
        "\n",
        "      f'i(x) = 1/(2h)*(-fi-1(x) + fi+1(x)) với  i = 1,2,...,n-1\n",
        "\n",
        "      f'n(x) = 1/(2h)*(fn-2(x) - 4fn-1(x) + 3fn(x))\n"
      ],
      "metadata": {
        "id": "cB4vfq9AtvpA"
      }
    },
    {
      "cell_type": "code",
      "source": [
        "def threePoint(x,f,h):\n",
        "    df = []\n",
        "    for i in range(x.shape[0]):\n",
        "        if i == 0:\n",
        "            df.append(1/(2*h)*(-3*f[i] + 4*f[i+1] - f[i+2]))\n",
        "        elif i == x.shape[0] - 1:\n",
        "            df.append(1/(2*h)*(f[i-2] - 4*f[i-1] + 3*f[i]))\n",
        "        else:\n",
        "            df.append(1/(2*h)*(f[i+1] - f[i-1]))\n",
        "    return np.array(df)"
      ],
      "metadata": {
        "id": "g6nauQ3Tts9v"
      },
      "execution_count": null,
      "outputs": []
    },
    {
      "cell_type": "code",
      "source": [
        "def val_f(x):\n",
        "    '''giá trị của hàm số f tại điểm x'''\n",
        "    return eval(\"x*exp(x)\".replace(\"^\", \"**\"))\n",
        "\n",
        "def val_df(x):\n",
        "    '''giá trị đạo hàm của hàm số f tại điểm x'''\n",
        "    return eval(\"exp(x) + x*exp(x)\".replace(\"^\", \"**\"))\n",
        "\n",
        "def threePoint_endPoint_formula(x0, f, h):\n",
        "    return 1/(2*h)*(-3*f(x0) + 4*f(x0+h) - f(x0 + 2*h))\n",
        "\n",
        "def threePoint_midPoint_formula(x0, f, h):\n",
        "    return 1/(2*h)*(f(x0 + h) - f(x0 - h))\n",
        "\n",
        "def fivePoint_midPoint_formula(x0, f, h):\n",
        "    return 1/(12*h)*(f(x0 - 2*h) - 8*f(x0 - h) + 8*f(x0 + h) - f(x0 + 2*h))\n",
        "\n",
        "def fivePoint_endPoint_formula(x0, f, h):\n",
        "    return 1/(12*h)*(-25*f(x0) + 48*f(x0 + h) - 36*f(x0 + 2*h) + 16*f(x0 + 3*h) - 3*f(x0 + 4*h))\n"
      ],
      "metadata": {
        "id": "6zwHF1AKv_pY"
      },
      "execution_count": null,
      "outputs": []
    },
    {
      "cell_type": "markdown",
      "source": [
        "* Tính đạo hàm tại 1 điểm"
      ],
      "metadata": {
        "id": "dqCpxXWmuRKO"
      }
    },
    {
      "cell_type": "code",
      "source": [
        "def val_f(x):\n",
        "    '''giá trị của hàm số f tại điểm x'''\n",
        "    return eval(\"x*exp(x)\".replace(\"^\", \"**\"))\n",
        "\n",
        "def val_df(x):\n",
        "    '''giá trị đạo hàm của hàm số f tại điểm x'''\n",
        "    return eval(\"exp(x) + x*exp(x)\".replace(\"^\", \"**\"))\n",
        "\n",
        "def three_midpoint_differentiate(f, x0, h):\n",
        "        return (f(x0+h)-f(x0-h))/(2*h)\n",
        "\n",
        "def threePoint_midPoint_formula(x0, f, h):\n",
        "    return 1/(2*h)*(f(x0 + h) - f(x0 - h))\n",
        "\n",
        "def fivePoint_midPoint_formula(x0, f, h):\n",
        "    return 1/(12*h)*(f(x0 - 2*h) - 8*f(x0 - h) + 8*f(x0 + h) - f(x0 + 2*h))\n",
        "\n",
        "def fivePoint_endPoint_formula(x0, f, h):\n",
        "    return 1/(12*h)*(-25*f(x0) + 48*f(x0 + h) - 36*f(x0 + 2*h) + 16*f(x0 + 3*h) - 3*f(x0 + 4*h))\n"
      ],
      "metadata": {
        "id": "xUo6DGVAuOPH"
      },
      "execution_count": null,
      "outputs": []
    },
    {
      "cell_type": "markdown",
      "source": [
        "* ví dụ"
      ],
      "metadata": {
        "id": "YJfbuZSkubSd"
      }
    },
    {
      "cell_type": "code",
      "source": [
        "import numpy as np\n",
        "from math import *"
      ],
      "metadata": {
        "id": "wY99hj78uhUH"
      },
      "execution_count": null,
      "outputs": []
    },
    {
      "cell_type": "code",
      "source": [
        "x = np.array([1.1, 1.2, 1.3, 1.4])\n",
        "y = np.array([1.5291, 1.64024, 1.70470, 1.71277])\n",
        "h = np.diff(x)[0]\n",
        "df = threePoint(x,y,h)\n",
        "print(f'Đạo hàm gần đúng là: {df}')"
      ],
      "metadata": {
        "colab": {
          "base_uri": "https://localhost:8080/"
        },
        "id": "i3GgUXcjuZHA",
        "outputId": "253e6774-c23e-49b2-dfdf-865bb4e14965"
      },
      "execution_count": null,
      "outputs": [
        {
          "output_type": "stream",
          "name": "stdout",
          "text": [
            "Đạo hàm gần đúng là: [ 1.3448   0.878    0.36265 -0.20125]\n"
          ]
        }
      ]
    },
    {
      "cell_type": "code",
      "source": [
        "import math\n",
        "x0 = 2\n",
        "h = 0.1 # bước nhảy của các giá trị x\n",
        "print(\"Giá trị của hàm số tại x = {} là: f({}) = {}\".format(x0,x0,val_f(x0)))\n",
        "print(\"Đạo hàm của hàm số tại x = {} là: df({}) = {}\".format(x0,x0,val_df(x0)))\n",
        "print(\"Đạo hàm gần đúng hàm số tại x = {} là:\".format(x0))\n",
        "print(\"threePoint endPoint formula:\", threePoint_endPoint_formula(x0, val_f, h))\n",
        "print(\"threePoint midPoint formula:\", threePoint_midPoint_formula(x0, val_f, h))\n",
        "print(\"fivePoint endPoint formula:\", fivePoint_endPoint_formula(x0, val_f, h))\n",
        "print(\"fivePoint midPoint formula:\", fivePoint_midPoint_formula(x0, val_f, h))"
      ],
      "metadata": {
        "colab": {
          "base_uri": "https://localhost:8080/"
        },
        "id": "5rdb83qMueaw",
        "outputId": "67b98bb6-8fde-4994-a294-fbfb531461e9"
      },
      "execution_count": null,
      "outputs": [
        {
          "output_type": "stream",
          "name": "stdout",
          "text": [
            "Giá trị của hàm số tại x = 2 là: f(2) = 14.7781121978613\n",
            "Đạo hàm của hàm số tại x = 2 là: df(2) = 22.16716829679195\n",
            "Đạo hàm gần đúng hàm số tại x = 2 là:\n",
            "threePoint endPoint formula: 22.03230486614652\n",
            "threePoint midPoint formula: 22.228786880307297\n",
            "fivePoint endPoint formula: 22.165914568055193\n",
            "fivePoint midPoint formula: 22.166995621399924\n"
          ]
        }
      ]
    },
    {
      "cell_type": "markdown",
      "source": [
        "* Tích phân gần đúng"
      ],
      "metadata": {
        "id": "Hkk-4T2vxM2R"
      }
    },
    {
      "cell_type": "code",
      "source": [
        "import math\n",
        "def equation1():\n",
        "    f = lambda x: x**3\n",
        "    return f\n",
        "\n",
        "def equation2():\n",
        "    f = lambda x: (1+(4*x**2))**(0.5)\n",
        "    return f\n",
        "\n",
        "def equation3():\n",
        "    f = lambda x: math.exp(-1*x**2)\n",
        "    return f\n",
        "\n",
        "def equation4():\n",
        "    f = lambda x: (math.sin(x))/x\n",
        "    return f\n",
        "\n",
        "#midpoint rule\n",
        "def midpoint(f, a, b, n): \n",
        "    h = float(b-a)/n #finding midpoint\n",
        "    result = 0\n",
        "    \n",
        "    for _ in range(n):\n",
        "        result += f((a + h/2.0)) #adding all the f(x)\n",
        "        a += h\n",
        "    result *= h #multiplying with the midpoint\n",
        "    return result\n",
        "\n",
        "#trapezoid rule\n",
        "def trapezoid(f, a, b, n):\n",
        "    h = (b-a)/float(n) #finding midpoint\n",
        "    result = f(a) + f(b) #find the f(a) and f(b) \n",
        "\n",
        "    for i in range(1,n,1):\n",
        "        result = result + (2*(f(a + i*h))) #finding 2*f(x)\n",
        "    result *= (h/2.0) #multiplying with dx/2.0\n",
        "\n",
        "    return result\n",
        "\n",
        "#simpson's rule\n",
        "def simpson(f, a, b, n):\n",
        "    h = (b-a)/float(n)\n",
        "    result = f(a) + f(b)\n",
        "\n",
        "    for i in range(1,n,1):\n",
        "        if(i%2 ==0):\n",
        "            result = result + (2*(f(a + i*h)))\n",
        "        else:\n",
        "            result = result + (4*(f(a + i*h)))\n",
        "    result *= (h/3.0)\n",
        "\n",
        "    return result\n",
        "def main():\n",
        "    \n",
        "    try:\n",
        "        print(\"\\n 1: x^3\\n 2: (1+(4x^2))^(1/2)\\n 3: e^(-x^2)\\n 4: (sin(x))/x\\n\")\n",
        "        response = input(\"Chọn phương trình ví dụ\\nBấm 'q' để dừng chương trình:  \")\n",
        "\n",
        "        while(response != \"q\"):\n",
        "\n",
        "            response = int(response)\n",
        "\n",
        "            a = int(input(\"\\nNhập 'a': \"))\n",
        "            b = int(input(\"\\nNhập 'b': \"))\n",
        "            n = int(input(\"\\nNhập'n': \"))\n",
        "\n",
        "            if(0<response<5):\n",
        "\n",
        "                print(\"\\n%-4s %-15s %-15s %-15s\\n\" % (\"n\", \"Midpoint Rule\", \"Trapezoid Rule\", \"Simpson's Rule\"))\n",
        "\n",
        "                for index in range(2,(n+1),2):\n",
        "                    if(response == 1):\n",
        "                        ansMid = midpoint(equation1(), a, b, index)\n",
        "                        ansTrap = trapezoid(equation1(), a, b, index)\n",
        "                        ansSim = simpson(equation1(),a,b,index)\n",
        "\n",
        "                    elif(response == 2):\n",
        "                        ansMid = midpoint(equation2(), a, b, index)\n",
        "                        ansTrap = trapezoid(equation2(), a, b, index)\n",
        "                        ansSim = simpson(equation2(),a,b,index)\n",
        "\n",
        "                    elif(response == 3):\n",
        "                        ansMid = midpoint(equation3(), a, b, index)\n",
        "                        ansTrap = trapezoid(equation3(), a, b, index)\n",
        "                        ansSim = simpson(equation3(),a,b,index)\n",
        "\n",
        "                    elif(response == 4):\n",
        "                        ansMid = midpoint(equation4(), a, b, index)\n",
        "                        ansTrap = trapezoid(equation4(), a, b, index)\n",
        "                        ansSim = simpson(equation4(),a,b,index)\n",
        "\n",
        "                    print(\"%-4i %-15.4f %-15.4f %-15.4f\\n\" % (index, ansMid, ansTrap, ansSim))\n",
        "\n",
        "            else:\n",
        "                print(\"Nhâp sai\")\n",
        "\n",
        "            print(\"\\n 1: x^3\\n 2: (1+(4x^2))^(1/2)\\n 3: e^(-x^2)\\n 4: (sin(x))/x\\n\")\n",
        "            response = input(\"Chọn phương trình ví dụ\\nBấm 'q' để dừng chương trình: \")\n",
        "\n",
        "    except ValueError:\n",
        "        print(\"\\nError: Vô nghiệm!\\n\")\n",
        "    \n",
        "\n",
        "if __name__ == \"__main__\":\n",
        "    main()"
      ],
      "metadata": {
        "colab": {
          "base_uri": "https://localhost:8080/"
        },
        "id": "Jogn6Ehbwn7Z",
        "outputId": "a4f1dabc-59f8-440b-d623-1e8462cc1497"
      },
      "execution_count": null,
      "outputs": [
        {
          "name": "stdout",
          "output_type": "stream",
          "text": [
            "\n",
            " 1: x^3\n",
            " 2: (1+(4x^2))^(1/2)\n",
            " 3: e^(-x^2)\n",
            " 4: (sin(x))/x\n",
            "\n",
            "Chọn phương trình ví dụ\n",
            "Bấm 'q' để dừng chương trình:  1\n",
            "\n",
            "Nhập 'a': -1\n",
            "\n",
            "Nhập 'b': 1\n",
            "\n",
            "Nhập'n': 10\n",
            "\n",
            "n    Midpoint Rule   Trapezoid Rule  Simpson's Rule \n",
            "\n",
            "2    0.0000          0.0000          0.0000         \n",
            "\n",
            "4    0.0000          0.0000          0.0000         \n",
            "\n",
            "6    -0.0000         -0.0000         -0.0000        \n",
            "\n",
            "8    0.0000          0.0000          0.0000         \n",
            "\n",
            "10   -0.0000         0.0000          0.0000         \n",
            "\n",
            "\n",
            " 1: x^3\n",
            " 2: (1+(4x^2))^(1/2)\n",
            " 3: e^(-x^2)\n",
            " 4: (sin(x))/x\n",
            "\n",
            "Chọn phương trình ví dụ\n",
            "Bấm 'q' để dừng chương trình: q\n"
          ]
        }
      ]
    },
    {
      "cell_type": "markdown",
      "source": [
        "# Chương 6: Phương pháp bình phương tối thiểu"
      ],
      "metadata": {
        "id": "OjQX2eroz6pU"
      }
    },
    {
      "cell_type": "code",
      "source": [
        "def find_M(x:np, degree, decimals = 5):\n",
        "    M = np.zeros((degree + 1, degree + 1), dtype = np.float32)\n",
        "    for row in range(0, degree + 1):\n",
        "        for col in range(row, degree + 1):\n",
        "            M[row, col] = M[col, row] =  np.round(np.sum(np.power(x,row + col)), decimals= decimals)\n",
        "    return M"
      ],
      "metadata": {
        "id": "50i_llSFzurM"
      },
      "execution_count": null,
      "outputs": []
    },
    {
      "cell_type": "code",
      "source": [
        "def find_N(x: np, y: np, degree, decimals = 5):\n",
        "    N = np.zeros(degree + 1)\n",
        "    for col in range(N.shape[0]):\n",
        "        N[col] = np.sum(y*np.power(x,col)) \n",
        "    return N"
      ],
      "metadata": {
        "id": "PzU--iCX0Gxg"
      },
      "execution_count": null,
      "outputs": []
    },
    {
      "cell_type": "markdown",
      "source": [
        "Hiển thị hàm fx"
      ],
      "metadata": {
        "id": "ymSmN4YO0Jop"
      }
    },
    {
      "cell_type": "code",
      "source": [
        "def normalization_fx(y):\n",
        "    for (i,ai) in enumerate(y):\n",
        "        coef = ai.split(\"_\")[0]\n",
        "        if float(coef) == 0:\n",
        "            y.remove(ai)\n",
        "        else:\n",
        "            y[i] = ai.replace(\"_\", \"\")\n",
        "    return \" + \".join(y).replace(\"+ -\", \"- \")"
      ],
      "metadata": {
        "id": "lE2h6rhU0Ifk"
      },
      "execution_count": null,
      "outputs": []
    },
    {
      "cell_type": "code",
      "source": [
        "def fx(a: np):\n",
        "    y = []\n",
        "    for (i,ai) in enumerate(a):\n",
        "        if i == 0:\n",
        "            y.append(str(ai))\n",
        "        elif i == 1: \n",
        "            y.append(str(ai) + \"_*x\")\n",
        "        else:\n",
        "            y.append(str(ai) + \"_*x^\" + str(i))\n",
        "    y = normalization_fx(y)\n",
        "    return y"
      ],
      "metadata": {
        "id": "YIu_wiNo0PJy"
      },
      "execution_count": null,
      "outputs": []
    },
    {
      "cell_type": "code",
      "source": [
        "def draw(x,y, f):\n",
        "    plt.scatter(x,y, s = 30, c = \"r\")\n",
        "    \n",
        "    x = np.arange(x[0] - 1, x[-1] + 1, 0.001)\n",
        "    y = eval(f.replace(\"^\", \"**\"))\n",
        "    plt.plot(x,y, label = \"f(x)\")\n",
        "    plt.title(\"Đồ thị xấp xỉ\")\n",
        "    plt.legend()"
      ],
      "metadata": {
        "id": "pjifoJMF0Qx6"
      },
      "execution_count": null,
      "outputs": []
    },
    {
      "cell_type": "code",
      "source": [
        "def main(x, y, degree, decimals = 5):\n",
        "    \n",
        "    M = find_M(x,degree)\n",
        "    N = find_N(x,y,degree)\n",
        "    a = np.round(np.linalg.inv(M).dot(N), decimals)\n",
        "    f =  fx(a)\n",
        "    draw(x,y,f)\n",
        "    print(\"f(x) =\",f)"
      ],
      "metadata": {
        "id": "O2_EPyFw0Swj"
      },
      "execution_count": null,
      "outputs": []
    },
    {
      "cell_type": "markdown",
      "source": [
        "* ví dụ"
      ],
      "metadata": {
        "id": "8mPWBW4_0YN_"
      }
    },
    {
      "cell_type": "code",
      "source": [
        "import matplotlib.pyplot as plt"
      ],
      "metadata": {
        "id": "yDTfJAL30cy1"
      },
      "execution_count": null,
      "outputs": []
    },
    {
      "cell_type": "code",
      "source": [
        "x = np.array([0, 0.25, 0.5, 0.75, 1])\n",
        "y = np.array([1,1.284, 1.6487, 2.1170, 2.7183])\n",
        "degree = 2 # bậc của hàm số\n",
        "decimals = 5 # làm tròn sau dấu phảy\n",
        "main(x, y, degree, decimals)"
      ],
      "metadata": {
        "colab": {
          "base_uri": "https://localhost:8080/",
          "height": 299
        },
        "id": "srWdJATR0XND",
        "outputId": "b14e929d-051e-4261-a0b0-da8424378a79"
      },
      "execution_count": null,
      "outputs": [
        {
          "output_type": "stream",
          "name": "stdout",
          "text": [
            "f(x) = 1.00514 + 0.86414*x + 0.8437*x^2\n"
          ]
        },
        {
          "output_type": "display_data",
          "data": {
            "text/plain": [
              "<Figure size 432x288 with 1 Axes>"
            ],
            "image/png": "[encoded data removed]"
          },
          "metadata": {
            "needs_background": "light"
          }
        }
      ]
    },
    {
      "cell_type": "code",
      "source": [
        "x = np.array([1,2,3,4,5,6,7,8,9,10])\n",
        "y = np.array([1.3, 3.5, 4.2, 5.0, 7.0, 8.8, 10.1, 12.5, 13, 15.6])\n",
        "degree = 2\n",
        "decimals = 5\n",
        "main(x, y, degree, decimals)"
      ],
      "metadata": {
        "colab": {
          "base_uri": "https://localhost:8080/",
          "height": 299
        },
        "id": "mexTLvoX0a77",
        "outputId": "c28f560b-a466-483e-961d-e66f977cbbd3"
      },
      "execution_count": null,
      "outputs": [
        {
          "output_type": "stream",
          "name": "stdout",
          "text": [
            "f(x) = 0.40669 + 1.15484*x + 0.03485*x^2\n"
          ]
        },
        {
          "output_type": "display_data",
          "data": {
            "text/plain": [
              "<Figure size 432x288 with 1 Axes>"
            ],
            "image/png": "[encoded data removed]"
          },
          "metadata": {
            "needs_background": "light"
          }
        }
      ]
    },
    {
      "cell_type": "markdown",
      "source": [
        "* Xấp xỉ bình phương liên tục"
      ],
      "metadata": {
        "id": "c4PWYQ3Z0t3r"
      }
    },
    {
      "cell_type": "code",
      "source": [
        "def val_f(func,x):\n",
        "    return eval(func.replace(\"^\", \"**\"))"
      ],
      "metadata": {
        "id": "CBvgl6E30ob6"
      },
      "execution_count": null,
      "outputs": []
    },
    {
      "cell_type": "code",
      "source": [
        "def simpson_rule(x, h, f_func, val_f):\n",
        "    sum = 0\n",
        "    for i in range(x.shape[0]):\n",
        "        if i == 0 and i == x.shape[0] - 1:\n",
        "            sum += val_f(f_func, x[i])\n",
        "        elif i % 2 == 0:\n",
        "            sum += 2*val_f(f_func, x[i])\n",
        "        else:\n",
        "            sum += 4*val_f(f_func, x[i])\n",
        "    \n",
        "    return h/3*sum"
      ],
      "metadata": {
        "id": "s5sDiHUe0yeC"
      },
      "execution_count": null,
      "outputs": []
    },
    {
      "cell_type": "markdown",
      "source": [
        "Xấp xỉ hàm số f(x) thành đa thức P(x) = a0 + a1*x + a2*x^2 + ... + an*x^n \n",
        "+ Tích phân đi từ a -> b của (x^i)*P(x) = tích phân đi từ a -> b của (x^i)*f(x) với i = 0, 1, ..., n\n",
        "+ với i = 0, 1, ..., n ta được ma trận A*coef = y\n",
        "+ Với A là ma trận (n+1)x(n+1) và coef là ma trận hệ số a = [a0, a1, ..., an] và y là ma trận tích phân các giá trị của hàm (x^i)*f(x)"
      ],
      "metadata": {
        "id": "Ezg_e53W0_IJ"
      }
    },
    {
      "cell_type": "code",
      "source": [
        "def print_function(coef):\n",
        "    Px = \"\"\n",
        "    for i in range(coef.shape[0]):\n",
        "        if i == 0 and coef[i] != 0:\n",
        "            Px += \"{} + \".format(coef[i])\n",
        "        elif i == coef.shape[0] -1 and coef[i] != 0:\n",
        "            Px += \"{}*x^{} \".format(coef[i], i)\n",
        "        elif i == coef.shape[0] -1 and coef[i] == 0:\n",
        "            Px = Px.strip().strip(\"+\")\n",
        "        elif coef[i] != 0:\n",
        "            Px += \"{}*x^{} + \".format(coef[i], i)\n",
        "    Px = Px.replace(\"^1 \", \" \")\n",
        "    print(\"P(x) =\", Px)\n",
        "    return Px"
      ],
      "metadata": {
        "id": "WYHSYvem07Rk"
      },
      "execution_count": null,
      "outputs": []
    },
    {
      "cell_type": "code",
      "source": [
        "def draw_func(a,b, fx, Px, step = 0.01):\n",
        "    plt.style.use(\"seaborn-whitegrid\")\n",
        "    x = np.arange(a, b, step)\n",
        "    val_fx = val_f(fx, x)\n",
        "    val_Px = val_f(Px, x)\n",
        "    plt.plot(x, val_fx, label = \"f(x)\")\n",
        "    plt.plot(x, val_Px, label = \"P(x)\")\n",
        "    plt.legend()\n",
        "    plt.title(\"Xấp xỉ hàm số bằng hàm trực giao\")\n",
        "    plt.xlabel(\"x-axis\")\n",
        "    plt.ylabel(\"y-axis\")"
      ],
      "metadata": {
        "id": "vArRL51O1Bhs"
      },
      "execution_count": null,
      "outputs": []
    },
    {
      "cell_type": "code",
      "source": [
        "def main(f_func, a, b, degree, d_decimals = 4):\n",
        "    #  các tham số của cần thiết cho công thức Simpson\n",
        "    n = 100\n",
        "    h = (b-a)/(2*n)\n",
        "    x = a + np.arange(0, 2*n + 1)*h\n",
        "\n",
        "    A = np.zeros((degree + 1, degree + 1))\n",
        "    for i in range(A.shape[0]):\n",
        "        for j in range(i,A.shape[1]):\n",
        "            A[i,j] = A[j, i] = simpson_rule(x,h,\"x^{}\".format(i + j), val_f)\n",
        "            \n",
        "    A = np.round(A, d_decimals)\n",
        "    \n",
        "    y = np.zeros(degree + 1)\n",
        "    for i in range(y.shape[0]):\n",
        "        new_func = \"(\" + f_func + \")*x^{}\".format(i)\n",
        "        y[i] = simpson_rule(x, h, new_func, val_f)\n",
        "    \n",
        "    coef = np.round(y.dot(np.linalg.inv(A)), d_decimals)\n",
        "    \n",
        "    Px = print_function(coef)\n",
        "    draw_func(a, b, f_func, Px)\n",
        "    # return coef"
      ],
      "metadata": {
        "id": "h_v-IaYD1EJy"
      },
      "execution_count": null,
      "outputs": []
    },
    {
      "cell_type": "markdown",
      "source": [
        "* ví dụ"
      ],
      "metadata": {
        "id": "owq7bdYa1HCE"
      }
    },
    {
      "cell_type": "code",
      "source": [
        "if __name__ == \"__main__\":\n",
        "    a,b = 0, 1 # khoảng làm tròn của tích phân\n",
        "    f_func = \"x^2 + 3*x +2\"    \n",
        "    degree = 1 # bậc của phương trình cần xấp xỉ\n",
        "    d_decimals = 4\n",
        "    main(f_func, a, b, degree)"
      ],
      "metadata": {
        "colab": {
          "base_uri": "https://localhost:8080/",
          "height": 655
        },
        "id": "apaI4vWu1Fy1",
        "outputId": "6be90940-6ef7-4fa6-81ff-ef769bdc6d6c"
      },
      "execution_count": null,
      "outputs": [
        {
          "output_type": "stream",
          "name": "stdout",
          "text": [
            "P(x) = 1.834 + 3.9997*x \n"
          ]
        },
        {
          "output_type": "stream",
          "name": "stderr",
          "text": [
            "/usr/local/lib/python3.8/dist-packages/matplotlib/backends/backend_agg.py:214: RuntimeWarning: Glyph 7845 missing from current font.\n",
            "  font.set_text(s, 0.0, flags=flags)\n",
            "/usr/local/lib/python3.8/dist-packages/matplotlib/backends/backend_agg.py:214: RuntimeWarning: Glyph 7881 missing from current font.\n",
            "  font.set_text(s, 0.0, flags=flags)\n",
            "/usr/local/lib/python3.8/dist-packages/matplotlib/backends/backend_agg.py:214: RuntimeWarning: Glyph 7889 missing from current font.\n",
            "  font.set_text(s, 0.0, flags=flags)\n",
            "/usr/local/lib/python3.8/dist-packages/matplotlib/backends/backend_agg.py:214: RuntimeWarning: Glyph 7857 missing from current font.\n",
            "  font.set_text(s, 0.0, flags=flags)\n",
            "/usr/local/lib/python3.8/dist-packages/matplotlib/backends/backend_agg.py:214: RuntimeWarning: Glyph 7921 missing from current font.\n",
            "  font.set_text(s, 0.0, flags=flags)\n",
            "/usr/local/lib/python3.8/dist-packages/matplotlib/backends/backend_agg.py:183: RuntimeWarning: Glyph 7845 missing from current font.\n",
            "  font.set_text(s, 0, flags=flags)\n",
            "/usr/local/lib/python3.8/dist-packages/matplotlib/backends/backend_agg.py:183: RuntimeWarning: Glyph 7881 missing from current font.\n",
            "  font.set_text(s, 0, flags=flags)\n",
            "/usr/local/lib/python3.8/dist-packages/matplotlib/backends/backend_agg.py:183: RuntimeWarning: Glyph 7889 missing from current font.\n",
            "  font.set_text(s, 0, flags=flags)\n",
            "/usr/local/lib/python3.8/dist-packages/matplotlib/backends/backend_agg.py:183: RuntimeWarning: Glyph 7857 missing from current font.\n",
            "  font.set_text(s, 0, flags=flags)\n",
            "/usr/local/lib/python3.8/dist-packages/matplotlib/backends/backend_agg.py:183: RuntimeWarning: Glyph 7921 missing from current font.\n",
            "  font.set_text(s, 0, flags=flags)\n"
          ]
        },
        {
          "output_type": "display_data",
          "data": {
            "text/plain": [
              "<Figure size 432x288 with 1 Axes>"
            ],
            "image/png": "[encoded data removed]"
          },
          "metadata": {}
        }
      ]
    },
    {
      "cell_type": "code",
      "source": [
        "if __name__ == \"__main__\":\n",
        "    a,b = -1, 1 # khoảng làm tròn của tích phân\n",
        "    f_func = \"1/2*cos(x) + 1/3*sin(2*x)\"    \n",
        "    degree = 3 # bậc của phương trình cần xấp xỉ\n",
        "    d_decimals = 4\n",
        "    main(f_func, a, b, degree)"
      ],
      "metadata": {
        "id": "b1ogs2DU1KEJ"
      },
      "execution_count": null,
      "outputs": []
    },
    {
      "cell_type": "markdown",
      "source": [
        "# Chương 7: Các phương pháp tính phương trình gần đúng"
      ],
      "metadata": {
        "id": "P4RyEXRA11JV"
      }
    },
    {
      "cell_type": "markdown",
      "source": [
        "* Phương pháp euler"
      ],
      "metadata": {
        "id": "_MLJ0cA-2BCJ"
      }
    },
    {
      "cell_type": "code",
      "source": [
        "from math import *\n",
        "import numpy as np\n",
        "from prettytable import PrettyTable"
      ],
      "metadata": {
        "id": "CCbcLfnu1NwJ"
      },
      "execution_count": null,
      "outputs": []
    },
    {
      "cell_type": "code",
      "source": [
        "def f(x):\n",
        "    return np.round(np.sqrt(2*x + 1), 5)"
      ],
      "metadata": {
        "id": "YG1Zs0oO2Ei0"
      },
      "execution_count": null,
      "outputs": []
    },
    {
      "cell_type": "code",
      "source": [
        "def df(x, y):\n",
        "    return y - 2*x/y"
      ],
      "metadata": {
        "id": "9NmYiIxr2GAa"
      },
      "execution_count": null,
      "outputs": []
    },
    {
      "cell_type": "markdown",
      "source": [
        "+ ví dụ 1"
      ],
      "metadata": {
        "id": "KphM8jm62fHz"
      }
    },
    {
      "cell_type": "code",
      "source": [
        "x = [0]\n",
        "y = [1] \n",
        "dy = [df(x[-1], y[-1])] # đạo hàm tai (xi,yi)\n",
        "half_dy = [] # giá trị df_i+1/2\n",
        "half_y = [] # y_i+1/2\n",
        "half_x = [] # x_i+1/2\n",
        "h = 0.2\n",
        "it = 10\n",
        "for i in range(it):\n",
        "    half_x.append(x[-1] + h/2)\n",
        "    half_y.append(y[-1] + h/2*dy[-1])\n",
        "    half_dy.append(df(half_x[-1], half_y[-1]))\n",
        "    x.append(x[-1] + h)\n",
        "    y.append(y[-1] + h*half_dy[-1])\n",
        "    dy.append(df(x[-1], y[-1]))\n",
        "    "
      ],
      "metadata": {
        "id": "aunrXTE52Hel"
      },
      "execution_count": null,
      "outputs": []
    },
    {
      "cell_type": "code",
      "source": [
        "table = PrettyTable()\n",
        "table.add_column(\"i\", range(it))\n",
        "table.add_column(\"x\", np.round(x[:-1], 5))\n",
        "table.add_column(\"y\", np.round(y[:-1],5))\n",
        "table.add_column(\"f_i\", np.round(dy[:-1],5))\n",
        "table.add_column(\"f_(i+1/2)\", np.round(half_dy,5))\n",
        "table.add_column(\"y_(i+1/2)\", np.round(half_y, 5))\n",
        "table.add_column(\"y_(i+1)\", np.round(y[1:], 5))\n",
        "table.add_column(\"f(x)\", f(np.array(x[:-1])))\n",
        "print(table)"
      ],
      "metadata": {
        "colab": {
          "base_uri": "https://localhost:8080/"
        },
        "id": "sYxrecqT2J0Y",
        "outputId": "204ef9b9-4c2e-4333-99d9-27a8c6fbc3fc"
      },
      "execution_count": null,
      "outputs": [
        {
          "output_type": "stream",
          "name": "stdout",
          "text": [
            "+---+-----+---------+---------+-----------+-----------+---------+---------+\n",
            "| i |  x  |    y    |   f_i   | f_(i+1/2) | y_(i+1/2) | y_(i+1) |   f(x)  |\n",
            "+---+-----+---------+---------+-----------+-----------+---------+---------+\n",
            "| 0 | 0.0 |   1.0   |   1.0   |  0.91818  |    1.1    | 1.18364 |   1.0   |\n",
            "| 1 | 0.2 | 1.18364 | 0.84569 |   0.7951  |  1.26821  | 1.34266 | 1.18322 |\n",
            "| 2 | 0.4 | 1.34266 | 0.74682 |  0.71179  |  1.41734  | 1.48501 | 1.34164 |\n",
            "| 3 | 0.6 | 1.48501 | 0.67694 |  0.65106  |  1.55271  | 1.61522 | 1.48324 |\n",
            "| 4 | 0.8 | 1.61522 | 0.62465 |  0.60479  |  1.67769  | 1.73618 | 1.61245 |\n",
            "| 5 | 1.0 | 1.73618 | 0.58423 |  0.56871  |  1.79461  | 1.84992 | 1.73205 |\n",
            "| 6 | 1.2 | 1.84992 | 0.55257 |  0.54048  |  1.90518  | 1.95802 | 1.84391 |\n",
            "| 7 | 1.4 | 1.95802 |  0.528  |  0.51889  |  2.01082  |  2.0618 | 1.94936 |\n",
            "| 8 | 1.6 |  2.0618 | 0.50976 |  0.50352  |  2.11277  |  2.1625 | 2.04939 |\n",
            "| 9 | 1.8 |  2.1625 | 0.49776 |  0.49459  |  2.21228  | 2.26142 | 2.14476 |\n",
            "+---+-----+---------+---------+-----------+-----------+---------+---------+\n"
          ]
        }
      ]
    },
    {
      "cell_type": "markdown",
      "source": [
        "+ ví dụ 2"
      ],
      "metadata": {
        "id": "wrZUx4I92jOU"
      }
    },
    {
      "cell_type": "code",
      "source": [
        "x0 = 0\n",
        "y0 = 0\n",
        "xf = 1\n",
        "n = 5\n",
        "deltax = (xf-x0)/(n-1)\n",
        "x = np.linspace(x0,xf,n)\n",
        "\n",
        "def f(x,y):\n",
        "\treturn x+2*y\n",
        "\n",
        "y = np.zeros([n])\n",
        "y[0] = y0\n",
        "\n",
        "for i in range(1,n):\n",
        "\ty[i] = deltax*f(x[i-1],y0) + y0\n",
        "\ty0 = y[i]\n",
        "\n",
        "print(\"x_n\\t    y_n\")\n",
        "for i in range(n):\n",
        "\tprint(x[i],\"\\t\",format(y[i],'6f'))\n",
        "\n",
        "plt.plot(x,y,'o')\n",
        "plt.xlabel(\"Value of x\")\n",
        "plt.ylabel(\"Value of y\")\n",
        "plt.title(\"Approximation Solution with Euler's Method\")\n",
        "plt.show()"
      ],
      "metadata": {
        "colab": {
          "base_uri": "https://localhost:8080/",
          "height": 395
        },
        "id": "Y1ebx1hx2N1L",
        "outputId": "7c335bfa-fef5-4ecc-cfc3-85e35af4cb59"
      },
      "execution_count": null,
      "outputs": [
        {
          "output_type": "stream",
          "name": "stdout",
          "text": [
            "x_n\t    y_n\n",
            "0.0 \t 0.000000\n",
            "0.25 \t 0.000000\n",
            "0.5 \t 0.062500\n",
            "0.75 \t 0.218750\n",
            "1.0 \t 0.515625\n"
          ]
        },
        {
          "output_type": "display_data",
          "data": {
            "text/plain": [
              "<Figure size 432x288 with 1 Axes>"
            ],
            "image/png": "[encoded data removed]"
          },
          "metadata": {}
        }
      ]
    },
    {
      "cell_type": "markdown",
      "source": [
        "+ ví dụ 3"
      ],
      "metadata": {
        "id": "bJc1DZcA2lk8"
      }
    },
    {
      "cell_type": "code",
      "source": [
        "x0 = 0\n",
        "y0 = 2\n",
        "xf = 1\n",
        "n = 11\n",
        "deltax = (xf-x0)/(n-1)\n",
        "x = np.linspace(x0,xf,n)\n",
        "def f(x,y):\n",
        "\treturn y-x\n",
        "\n",
        "y = np.zeros([n])\n",
        "y[0] = y0\n",
        "py = np.zeros([n])\n",
        "py[0] = None\n",
        "\n",
        "for i in range(1,n):\n",
        "\tpy[i] = deltax*f(x[i-1],y[i-1]) + y[i-1]\n",
        "\ty[i] = deltax/2*( f(x[i],py[i]) + f(x[i-1],y[i-1]) ) + y[i-1]\n",
        "print(\"x_n\\t   py_n\\t           y_n\")\n",
        "for i in range(n):\n",
        "\tprint (x[i],\"\\t\",format(py[i],'6f'),\"\\t\",format(y[i],'6f'))\n",
        "\n",
        "plt.plot(x,y,'o')\n",
        "plt.xlabel(\"Value of x\")\n",
        "plt.ylabel(\"Value of y\")\n",
        "plt.title(\"Approximation Solution with Modified Euler's Method\")\n",
        "plt.show()"
      ],
      "metadata": {
        "colab": {
          "base_uri": "https://localhost:8080/",
          "height": 499
        },
        "id": "SYTn3gBE2XbD",
        "outputId": "31a4fbf3-ec73-49be-da13-6170024cbcba"
      },
      "execution_count": null,
      "outputs": [
        {
          "output_type": "stream",
          "name": "stdout",
          "text": [
            "x_n\t   py_n\t           y_n\n",
            "0.0 \t    nan \t 2.000000\n",
            "0.1 \t 2.200000 \t 2.205000\n",
            "0.2 \t 2.415500 \t 2.421025\n",
            "0.30000000000000004 \t 2.643128 \t 2.649233\n",
            "0.4 \t 2.884156 \t 2.890902\n",
            "0.5 \t 3.139992 \t 3.147447\n",
            "0.6000000000000001 \t 3.412191 \t 3.420429\n",
            "0.7000000000000001 \t 3.702472 \t 3.711574\n",
            "0.8 \t 4.012731 \t 4.022789\n",
            "0.9 \t 4.345068 \t 4.356182\n",
            "1.0 \t 4.701800 \t 4.714081\n"
          ]
        },
        {
          "output_type": "display_data",
          "data": {
            "text/plain": [
              "<Figure size 432x288 with 1 Axes>"
            ],
            "image/png": "[encoded data removed]"
          },
          "metadata": {}
        }
      ]
    },
    {
      "cell_type": "markdown",
      "source": [
        "* Phương pháp Rough-Kutta bậc 4"
      ],
      "metadata": {
        "id": "o8r4SCYS2ngm"
      }
    },
    {
      "cell_type": "code",
      "source": [
        "def f(x):\n",
        "    return np.round(1/5*x*np.exp(3*x) - 1/25*np.exp(3*x) + 1/25*np.exp(-2*x), 5)"
      ],
      "metadata": {
        "id": "p8lr6B8Z2ddy"
      },
      "execution_count": null,
      "outputs": []
    },
    {
      "cell_type": "code",
      "source": [
        "def dy(x, y):\n",
        "    return x*exp(3*x) - 2*y"
      ],
      "metadata": {
        "id": "l7S-Lrku21_w"
      },
      "execution_count": null,
      "outputs": []
    },
    {
      "cell_type": "code",
      "source": [
        "y = [0] # khai báo y0\n",
        "x = [0] \n",
        "h = 0.1\n",
        "it = 10 # số vòng lặp\n",
        "\n",
        "k1 = []\n",
        "k2 = []\n",
        "k3 = []\n",
        "k4 = []\n",
        "delta_y = []"
      ],
      "metadata": {
        "id": "3LNSDSnw23Z7"
      },
      "execution_count": null,
      "outputs": []
    },
    {
      "cell_type": "code",
      "source": [
        "\n",
        "for i in range(it):\n",
        "    ki_1 =  h*dy(x[-1], y[-1])\n",
        "    ki_2 = h*dy(x[-1] + h/2, y[-1] + ki_1/2)\n",
        "    ki_3 = h*dy(x[-1] + h/2, y[-1] + ki_2/2)\n",
        "    ki_4 = h*dy(x[-1] + h, y[-1] + ki_3)\n",
        "    \n",
        "    delta_yi = 1/6*(ki_1 + 2*ki_2 + 2*ki_3 + ki_4)    \n",
        "    \n",
        "    k1.append(ki_1)\n",
        "    k2.append(ki_2)\n",
        "    k3.append(ki_3)\n",
        "    k4.append(ki_4)\n",
        "    delta_y.append(delta_yi)\n",
        "    \n",
        "    y.append(y[-1] + delta_yi)\n",
        "    x.append(x[-1] + h)\n",
        "\n"
      ],
      "metadata": {
        "id": "E19W5rN025P-"
      },
      "execution_count": null,
      "outputs": []
    },
    {
      "cell_type": "code",
      "source": [
        "x = np.round(x,3)\n",
        "y = np.round(y, 5)\n",
        "k1 = np.round(k1, 5)\n",
        "k2 = np.round(k2, 5)\n",
        "k3 = np.round(k3, 5)\n",
        "k4 = np.round(k4, 5)\n",
        "delta_y = np.round(delta_y, 5)\n"
      ],
      "metadata": {
        "id": "X2nba9Ms26wP"
      },
      "execution_count": null,
      "outputs": []
    },
    {
      "cell_type": "code",
      "source": [
        "dat_dtype = {\n",
        "    'names' : (\"x\", \"y\", \"k1\", \"k2\", \"k3\", \"k4\", \"delta_y\", \"y_i+1\"),\n",
        "    'formats' : (\"float\", \"float\", \"float\",  \"float\",  \"float\", \"float\",  \"float\",  \"float\")}\n",
        "\n",
        "table = PrettyTable()\n",
        "table.add_column(\"x\", x[:-1])\n",
        "table.add_column(\"y\", y[:-1])\n",
        "table.add_column(\"k1\", k1)\n",
        "table.add_column(\"k2\", k2)\n",
        "table.add_column(\"k3\", k3)\n",
        "table.add_column(\"k4\", k4)\n",
        "table.add_column(\"delta_y\", delta_y)\n",
        "table.add_column(\"y_i+1\", y[1:])\n",
        "\n",
        "print(table)"
      ],
      "metadata": {
        "colab": {
          "base_uri": "https://localhost:8080/"
        },
        "id": "LIcteWQU28J8",
        "outputId": "552ad5c9-4e92-47f7-fd12-57808bbd383c"
      },
      "execution_count": null,
      "outputs": [
        {
          "output_type": "stream",
          "name": "stdout",
          "text": [
            "+-----+---------+---------+---------+---------+---------+---------+---------+\n",
            "|  x  |    y    |    k1   |    k2   |    k3   |    k4   | delta_y |  y_i+1  |\n",
            "+-----+---------+---------+---------+---------+---------+---------+---------+\n",
            "| 0.0 |   0.0   |   0.0   | 0.00581 | 0.00523 | 0.01245 | 0.00575 | 0.00575 |\n",
            "| 0.1 | 0.00575 | 0.01235 | 0.02114 | 0.02026 | 0.03124 | 0.02106 | 0.02682 |\n",
            "| 0.2 | 0.02682 | 0.03108 | 0.04445 | 0.04312 |  0.0598 | 0.04434 | 0.07116 |\n",
            "| 0.3 | 0.07116 | 0.05956 | 0.07983 |  0.0778 | 0.10301 | 0.07964 |  0.1508 |\n",
            "| 0.4 |  0.1508 | 0.10265 | 0.13316 | 0.13011 |  0.1679 | 0.13285 | 0.28364 |\n",
            "| 0.5 | 0.28364 | 0.16736 | 0.21292 | 0.20836 | 0.26458 | 0.21242 | 0.49606 |\n",
            "| 0.6 | 0.49606 | 0.26377 | 0.33128 | 0.32453 | 0.40751 | 0.33048 | 0.82654 |\n",
            "| 0.7 | 0.82654 | 0.40632 | 0.50564 | 0.49571 |  0.6174 |  0.5044 | 1.33094 |\n",
            "| 0.8 | 1.33094 | 0.61567 | 0.76085 | 0.74633 | 0.92372 | 0.75896 |  2.0899 |\n",
            "| 0.9 |  2.0899 |  0.9212 | 1.13224 | 1.11114 | 1.36835 | 1.12938 | 3.21928 |\n",
            "+-----+---------+---------+---------+---------+---------+---------+---------+\n"
          ]
        }
      ]
    },
    {
      "cell_type": "markdown",
      "source": [
        "* Phương pháp cải tiến thứ 2 - Huen Method"
      ],
      "metadata": {
        "id": "qzz0WCPz3SB8"
      }
    },
    {
      "cell_type": "code",
      "source": [
        "def f(x):\n",
        "    return np.round(np.sqrt(2*x + 1), 5)\n",
        "def df(x, y):\n",
        "    return y - 2*x/y"
      ],
      "metadata": {
        "id": "wCDkCAeZ2915"
      },
      "execution_count": null,
      "outputs": []
    },
    {
      "cell_type": "code",
      "source": [
        "x = [0]\n",
        "y = [1]\n",
        "dy = [df(x[-1], y[-1])]\n",
        "h = 0.2\n",
        "y_tmp = [] # giá trị tham số trung gian y_i+1 = yi + h*df(xi,yi)\n",
        "dy_tmp = [] # giá trị tham số trung gian dy(x_i+1, y_tmp[-1])\n",
        "it = 10\n",
        "for i in range(it):\n",
        "    y_tmp.append(y[-1] + h*dy[-1])\n",
        "    x.append(x[-1] + h)\n",
        "    dy_tmp.append(df(x[-1], y_tmp[-1]))\n",
        "    y.append(y[-1] + h*(dy[-1] + dy_tmp[-1])/2)\n",
        "    dy.append(df(x[-1], y[-1]))"
      ],
      "metadata": {
        "id": "OE8O-BTk3a9K"
      },
      "execution_count": null,
      "outputs": []
    },
    {
      "cell_type": "code",
      "source": [
        "table = PrettyTable()\n",
        "table.add_column(\"i\", range(it))\n",
        "table.add_column(\"x\", np.round(x[:-1], 5))\n",
        "table.add_column(\"y\", np.round(y[:-1],5))\n",
        "table.add_column(\"dy(xi,yi)\", np.round(dy[:-1],5))\n",
        "table.add_column(\"y_tmp(i+1)\", np.round(y_tmp,5))\n",
        "table.add_column(\"dy_tmp(x(i+1),y_tmp(i+1))\", np.round(dy_tmp,5))\n",
        "table.add_column(\"y_(i+1)\", np.round(y[1:], 5))\n",
        "table.add_column(\"f(x)\", f(np.array(x[:-1])))\n",
        "\n",
        "print(table)"
      ],
      "metadata": {
        "colab": {
          "base_uri": "https://localhost:8080/"
        },
        "id": "wVlTZrLK3fXm",
        "outputId": "f606e822-6846-4702-808b-75d6056c7f91"
      },
      "execution_count": null,
      "outputs": [
        {
          "output_type": "stream",
          "name": "stdout",
          "text": [
            "+---+-----+---------+-----------+------------+---------------------------+---------+---------+\n",
            "| i |  x  |    y    | dy(xi,yi) | y_tmp(i+1) | dy_tmp(x(i+1),y_tmp(i+1)) | y_(i+1) |   f(x)  |\n",
            "+---+-----+---------+-----------+------------+---------------------------+---------+---------+\n",
            "| 0 | 0.0 |   1.0   |    1.0    |    1.2     |          0.86667          | 1.18667 |   1.0   |\n",
            "| 1 | 0.2 | 1.18667 |  0.84959  |  1.35658   |          0.76687          | 1.34831 | 1.18322 |\n",
            "| 2 | 0.4 | 1.34831 |  0.75498  |  1.49931   |          0.69894          |  1.4937 | 1.34164 |\n",
            "| 3 | 0.6 |  1.4937 |  0.69033  |  1.63177   |          0.65124          | 1.62786 | 1.48324 |\n",
            "| 4 | 0.8 | 1.62786 |  0.64498  |  1.75686   |          0.61846          |  1.7542 | 1.61245 |\n",
            "| 5 | 1.0 |  1.7542 |  0.61409  |  1.87702   |           0.5984          | 1.87545 | 1.73205 |\n",
            "| 6 | 1.2 | 1.87545 |  0.59576  |  1.99461   |          0.59082          | 1.99411 | 1.84391 |\n",
            "| 7 | 1.4 | 1.99411 |  0.58998  |  2.11211   |          0.59703          | 2.11281 | 1.94936 |\n",
            "| 8 | 1.6 | 2.11281 |  0.59824  |  2.23246   |          0.61989          | 2.23463 | 2.04939 |\n",
            "| 9 | 1.8 | 2.23463 |  0.62362  |  2.35935   |          0.66397          | 2.36338 | 2.14476 |\n",
            "+---+-----+---------+-----------+------------+---------------------------+---------+---------+\n"
          ]
        }
      ]
    },
    {
      "cell_type": "markdown",
      "source": [
        "# Chương 8: Fast Fourier"
      ],
      "metadata": {
        "id": "NvBurdzQ3nOd"
      }
    },
    {
      "cell_type": "markdown",
      "source": [
        "* Biến đổi Fourier rời rạc (DFT)"
      ],
      "metadata": {
        "id": "ekJsrPVQ3t4K"
      }
    },
    {
      "cell_type": "code",
      "source": [
        "def root_of_unity_wn(n):\n",
        "    return cos(2*pi/n) - 1j*sin(2*pi/n)\n",
        "\n",
        "def fourier_matrix_Fn(n , w):\n",
        "    Fn = np.zeros((n,n), dtype=np.complex64)\n",
        "    for i in range(n):\n",
        "        for j in range(i, n):\n",
        "            Fn[i,j] = Fn[j, i] = np.power(w, i*j)      \n",
        "    return Fn"
      ],
      "metadata": {
        "id": "t1ZpFgBl3hyA"
      },
      "execution_count": null,
      "outputs": []
    },
    {
      "cell_type": "code",
      "source": [
        "def main(n, x, d_decimals):\n",
        "    \n",
        "    wn = root_of_unity_wn(n)\n",
        "    Fn = fourier_matrix_Fn(n,wn)  \n",
        "    y = Fn.dot(x)\n",
        "    y = np.round(y,d_decimals)\n",
        "    print(\"Biến đổi Fourier rời rạc:\")\n",
        "    print(y.reshape((-1,1)))  "
      ],
      "metadata": {
        "id": "qS3YVZlm32Vv"
      },
      "execution_count": null,
      "outputs": []
    },
    {
      "cell_type": "markdown",
      "source": [
        "* ví dụ"
      ],
      "metadata": {
        "id": "3T9x-9X735et"
      }
    },
    {
      "cell_type": "code",
      "source": [
        "if __name__ == \"__main__\":\n",
        "    n = 8\n",
        "    d_decimals = 2\n",
        "    x = np.array([4, 0, 3, 6, 2, 9, 6, 5])\n",
        "    main(n, x, d_decimals)"
      ],
      "metadata": {
        "colab": {
          "base_uri": "https://localhost:8080/"
        },
        "id": "3WsDRF7i33ul",
        "outputId": "fa7b19b4-d2ee-43d4-d1b8-d8015d567765"
      },
      "execution_count": null,
      "outputs": [
        {
          "output_type": "stream",
          "name": "stdout",
          "text": [
            "Biến đổi Fourier rời rạc:\n",
            "[[35.  +0.j  ]\n",
            " [-5.07+8.66j]\n",
            " [-3.  +2.j  ]\n",
            " [ 9.07+2.66j]\n",
            " [-5.  -0.j  ]\n",
            " [ 9.07-2.66j]\n",
            " [-3.  -2.j  ]\n",
            " [-5.07-8.66j]]\n"
          ]
        }
      ]
    },
    {
      "cell_type": "code",
      "source": [
        "if __name__ == \"__main__\":\n",
        "    n = 8\n",
        "    d_decimals = 2\n",
        "    x = np.array([1, -1, 1, -1, 1, -1, 1, -1])\n",
        "    main(n, x, d_decimals)"
      ],
      "metadata": {
        "colab": {
          "base_uri": "https://localhost:8080/"
        },
        "id": "iVh90Qqq37YI",
        "outputId": "78a5a4d1-e3c8-4689-e7a3-239a5bd0e8bc"
      },
      "execution_count": null,
      "outputs": [
        {
          "output_type": "stream",
          "name": "stdout",
          "text": [
            "Biến đổi Fourier rời rạc:\n",
            "[[ 0.+0.j]\n",
            " [-0.-0.j]\n",
            " [ 0.-0.j]\n",
            " [ 0.-0.j]\n",
            " [ 8.+0.j]\n",
            " [-0.-0.j]\n",
            " [-0.-0.j]\n",
            " [ 0.-0.j]]\n"
          ]
        }
      ]
    },
    {
      "cell_type": "markdown",
      "source": [
        "* Fast Fourier Transform"
      ],
      "metadata": {
        "id": "r7x-tHYm4A6m"
      }
    },
    {
      "cell_type": "code",
      "source": [
        "import matplotlib.pyplot as plt\n",
        "import numpy as np\n",
        "\n",
        "plt.style.use('seaborn-poster')\n",
        "%matplotlib inline"
      ],
      "metadata": {
        "id": "IgrT0xwP3-Nf"
      },
      "execution_count": null,
      "outputs": []
    },
    {
      "cell_type": "code",
      "source": [
        "def FFT(x):\n",
        "    N = len(x)\n",
        "    \n",
        "    if N == 1:\n",
        "        return x\n",
        "    else:\n",
        "        X_even = FFT(x[::2])\n",
        "        X_odd = FFT(x[1::2])\n",
        "        factor = \\\n",
        "          np.exp(-2j*np.pi*np.arange(N)/ N)\n",
        "        \n",
        "        X = np.concatenate(\\\n",
        "            [X_even+factor[:int(N/2)]*X_odd,\n",
        "             X_even+factor[int(N/2):]*X_odd])\n",
        "        return X"
      ],
      "metadata": {
        "id": "YUc8n5gq4Fg2"
      },
      "execution_count": null,
      "outputs": []
    },
    {
      "cell_type": "code",
      "source": [
        "sr = 128\n",
        "# sampling interval\n",
        "ts = 1.0/sr\n",
        "t = np.arange(0,1,ts)\n",
        "\n",
        "freq = 1.\n",
        "x = 3*np.sin(2*np.pi*freq*t)\n",
        "\n",
        "freq = 4\n",
        "x += np.sin(2*np.pi*freq*t)\n",
        "\n",
        "freq = 7   \n",
        "x += 0.5* np.sin(2*np.pi*freq*t)\n",
        "\n",
        "plt.figure(figsize = (8, 6))\n",
        "plt.plot(t, x, 'r')\n",
        "plt.ylabel('Amplitude')\n",
        "\n",
        "plt.show()"
      ],
      "metadata": {
        "colab": {
          "base_uri": "https://localhost:8080/",
          "height": 383
        },
        "id": "hWPk2JYl4G07",
        "outputId": "62a17899-f929-4bcb-c712-e3bda59bc128"
      },
      "execution_count": null,
      "outputs": [
        {
          "output_type": "display_data",
          "data": {
            "text/plain": [
              "<Figure size 576x432 with 1 Axes>"
            ],
            "image/png": "[encoded data removed]"
          },
          "metadata": {
            "needs_background": "light"
          }
        }
      ]
    },
    {
      "cell_type": "code",
      "source": [
        "X=FFT(x)\n",
        "\n",
        "# calculate the frequency\n",
        "N = len(X)\n",
        "n = np.arange(N)\n",
        "T = N/sr\n",
        "freq = n/T \n",
        "\n",
        "plt.figure(figsize = (12, 6))\n",
        "plt.subplot(121)\n",
        "plt.stem(freq, abs(X), 'b', \\\n",
        "         markerfmt=\" \", basefmt=\"-b\")\n",
        "plt.xlabel('Freq (Hz)')\n",
        "plt.ylabel('FFT Amplitude |X(freq)|')\n",
        "\n",
        "# Get the one-sided specturm\n",
        "n_oneside = N//2\n",
        "# get the one side frequency\n",
        "f_oneside = freq[:n_oneside]\n",
        "\n",
        "# normalize the amplitude\n",
        "X_oneside =X[:n_oneside]/n_oneside\n",
        "\n",
        "plt.subplot(122)\n",
        "plt.stem(f_oneside, abs(X_oneside), 'b', \\\n",
        "         markerfmt=\" \", basefmt=\"-b\")\n",
        "plt.xlabel('Freq (Hz)')\n",
        "plt.ylabel('Normalized FFT Amplitude |X(freq)|')\n",
        "plt.tight_layout()\n",
        "plt.show()"
      ],
      "metadata": {
        "colab": {
          "base_uri": "https://localhost:8080/",
          "height": 530
        },
        "id": "8V9Sx_zP4Il-",
        "outputId": "04935ba6-13b9-4e4d-8003-6e784399b4f6"
      },
      "execution_count": null,
      "outputs": [
        {
          "output_type": "stream",
          "name": "stderr",
          "text": [
            "<ipython-input-78-b37bcf2d7641>:11: UserWarning: In Matplotlib 3.3 individual lines on a stem plot will be added as a LineCollection instead of individual lines. This significantly improves the performance of a stem plot. To remove this warning and switch to the new behaviour, set the \"use_line_collection\" keyword argument to True.\n",
            "  plt.stem(freq, abs(X), 'b', \\\n",
            "<ipython-input-78-b37bcf2d7641>:25: UserWarning: In Matplotlib 3.3 individual lines on a stem plot will be added as a LineCollection instead of individual lines. This significantly improves the performance of a stem plot. To remove this warning and switch to the new behaviour, set the \"use_line_collection\" keyword argument to True.\n",
            "  plt.stem(f_oneside, abs(X_oneside), 'b', \\\n"
          ]
        },
        {
          "output_type": "display_data",
          "data": {
            "text/plain": [
              "<Figure size 864x432 with 2 Axes>"
            ],
            "image/png": "[encoded data removed]"
          },
          "metadata": {
            "needs_background": "light"
          }
        }
      ]
    },
    {
      "cell_type": "code",
      "source": [],
      "metadata": {
        "id": "JyciTob14Rk2"
      },
      "execution_count": null,
      "outputs": []
    }
  ]
}